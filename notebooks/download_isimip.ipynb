version https://git-lfs.github.com/spec/v1
oid sha256:f530c18bb900c23997e75964334fc8dfb6d85d496a6c982ecd3eb1905df46c0d
size 292348
