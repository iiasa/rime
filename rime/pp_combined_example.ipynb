{
 "cells": [
  {
   "cell_type": "markdown",
   "id": "75068288",
   "metadata": {},
   "source": [
    "# Processing workflow example"
   ]
  },
  {
   "cell_type": "code",
   "execution_count": 29,
   "id": "553e322c",
   "metadata": {},
   "outputs": [
    {
     "name": "stdout",
     "output_type": "stream",
     "text": [
      "The autoreload extension is already loaded. To reload it, use:\n",
      "  %reload_ext autoreload\n"
     ]
    }
   ],
   "source": [
    "%load_ext autoreload\n",
    "%autoreload 2\n",
    "from rime.process_config import *\n",
    "from rime.rime_functions import *\n",
    "from rime.utils import *\n",
    "from rime.core import GMTPathway\n",
    "from rime.core import RasterArray\n",
    "from rime.core import RegionArray\n",
    "\n",
    "\n",
    "\n",
    "import dask\n",
    "import dask.dataframe as dd\n",
    "# from dask.diagnostics import ProgressBar\n",
    "from dask.diagnostics import Profiler, ResourceProfiler, CacheProfiler, ProgressBar\n",
    "from dask.distributed import Client\n",
    "\n",
    "# from dask.distributed import Client # uncomment this to open Dask client to see performance\n",
    "import glob\n",
    "import numpy as np\n",
    "import pandas as pd\n",
    "import pyam\n",
    "import re\n",
    "import time\n",
    "import xarray as xr\n",
    "import yaml"
   ]
  },
  {
   "cell_type": "code",
   "execution_count": 2,
   "id": "9f7bd8af",
   "metadata": {},
   "outputs": [],
   "source": [
    "# Load a yaml file that will help select multiple climate indicator files (not necessarily needed)\n",
    "with open(\"indicator_params.yml\", \"r\") as f:\n",
    "    params = yaml.full_load(f)"
   ]
  },
  {
   "cell_type": "code",
   "execution_count": 3,
   "id": "0da81a1a",
   "metadata": {},
   "outputs": [],
   "source": [
    "dask.config.set(scheduler=\"processes\")\n",
    "dask.config.set(num_workers=num_workers)\n",
    "client = Client()  # uncomment this to open Dask client"
   ]
  },
  {
   "cell_type": "markdown",
   "id": "7c0318d1",
   "metadata": {},
   "source": [
    "To see the Dask dasboard, open http://localhost:8787/status in your browser"
   ]
  },
  {
   "cell_type": "markdown",
   "id": "f17db9b7",
   "metadata": {},
   "source": [
    "### Import scenarios data\n",
    "\n",
    "Load an IAMC scenarios dataset.  We can use the one that comes with the package.\n",
    "Filter for IPCC IMP and core IMAGE SSP scenarios.\n",
    "Assign SSPs if missing and fix duplicate temperatures.  "
   ]
  },
  {
   "cell_type": "code",
   "execution_count": 4,
   "id": "0f6cae87-9717-4304-b841-5d61e87b55d3",
   "metadata": {},
   "outputs": [
    {
     "name": "stderr",
     "output_type": "stream",
     "text": [
      "pyam - INFO: Running in a notebook, setting up a basic logging at level INFO\n",
      "pyam.core - INFO: Reading file test_data/emissions_temp_AR6_small.xlsx\n",
      "/home/byers/venvs/rimeclasses/lib/python3.10/site-packages/pyam/utils.py:347: FutureWarning: The previous implementation of stack is deprecated and will be removed in a future version of pandas. See the What's New notes for pandas 2.1.0 for details. Specify future_stack=True to adopt the new implementation and silence this warning.\n",
      "  df.set_index(index + REQUIRED_COLS + extra_cols)\n",
      "/home/byers/venvs/rimeclasses/lib/python3.10/site-packages/pyam/core.py:2691: FutureWarning: unique with argument that is not not a Series, Index, ExtensionArray, or np.ndarray is deprecated and will raise in a future version.\n",
      "  index = pd.unique(index)\n",
      "pyam.core - INFO: Reading meta indicators\n"
     ]
    },
    {
     "name": "stdout",
     "output_type": "stream",
     "text": [
      "AR6 climate diagnostics|Surface Temperature (GSAT)|MAGICCv7.5.3|50.0th Percentile\n",
      "Temperature_variable(s) provided: AR6 climate diagnostics|Surface Temperature (GSAT)|MAGICCv7.5.3|50.0th Percentile\n"
     ]
    },
    {
     "name": "stderr",
     "output_type": "stream",
     "text": [
      "/home/byers/venvs/rimeclasses/lib/python3.10/site-packages/pyam/core.py:2691: FutureWarning: unique with argument that is not not a Series, Index, ExtensionArray, or np.ndarray is deprecated and will raise in a future version.\n",
      "  index = pd.unique(index)\n",
      "/home/byers/venvs/rimeclasses/lib/python3.10/site-packages/pyam/core.py:2691: FutureWarning: unique with argument that is not not a Series, Index, ExtensionArray, or np.ndarray is deprecated and will raise in a future version.\n",
      "  index = pd.unique(index)\n",
      "/home/byers/venvs/rimeclasses/lib/python3.10/site-packages/pyam/core.py:2691: FutureWarning: unique with argument that is not not a Series, Index, ExtensionArray, or np.ndarray is deprecated and will raise in a future version.\n",
      "  index = pd.unique(index)\n",
      "/home/byers/venvs/rimeclasses/lib/python3.10/site-packages/pyam/core.py:2691: FutureWarning: unique with argument that is not not a Series, Index, ExtensionArray, or np.ndarray is deprecated and will raise in a future version.\n",
      "  index = pd.unique(index)\n"
     ]
    }
   ],
   "source": [
    "df_scens_in = pyam.IamDataFrame('test_data/emissions_temp_AR6_small.xlsx')\n",
    "scenarios = [\"SSP1-26\", \"SSP2-45\", \"SSP3-Baseline\", \"SSP5-Baseline\"]\n",
    "variable = (\n",
    "    \"AR6 climate diagnostics|Surface Temperature (GSAT)|MAGICCv7.5.3|50.0th Percentile\"\n",
    ")\n",
    "ssps = df_scens_in.filter(scenario=scenarios, model=\"IMAGE*\")#, variable=variable)\n",
    "imps = df_scens_in.filter(\n",
    "    IMP_marker=[\"CurPol\", \"ModAct\", \"SP\", \"GS\", \"Neg\"])#, variable=variable)  # ,'Ren-2.0','Neg-2.0'\n",
    "ssps_imp = ssps.append(imps)\n",
    "# ssps_imp = ssp_helper(ssps_imp, ssp_meta_col=\"Ssp_family\", default_ssp=\"SSP2\")\n",
    "ssps_imp = GMTPathway(ssps_imp, temperature_variable=variable)"
   ]
  },
  {
   "cell_type": "markdown",
   "id": "f6c1301d",
   "metadata": {},
   "source": [
    "# Generate some maps"
   ]
  },
  {
   "cell_type": "markdown",
   "id": "04aec0eb",
   "metadata": {},
   "source": [
    "## Example 1: multiple IAM scenarios, 1 climate indicator"
   ]
  },
  {
   "cell_type": "code",
   "execution_count": 44,
   "id": "256391d3-798f-4c63-b5b8-0f3b2e1da325",
   "metadata": {},
   "outputs": [],
   "source": [
    "# Requires some configuration -\n",
    "# Either use the existing test data in the repo or download the full data from https://zenodo.org/records/10212339, and set the file paths in the file process_config.py"
   ]
  },
  {
   "cell_type": "code",
   "execution_count": 9,
   "id": "cb9a7897-1964-4349-b2e3-7928b8c9ae1c",
   "metadata": {},
   "outputs": [
    {
     "name": "stdout",
     "output_type": "stream",
     "text": [
      "FrozenMappingWarningOnValuesAccess({'lon': 720, 'lat': 360, 'gwl': 5})\n"
     ]
    },
    {
     "name": "stderr",
     "output_type": "stream",
     "text": [
      "/home/byers/rime/rime/core.py:114: UserWarning: rename 'threshold' to 'gwl' does not create an index anymore. Try using swap_dims instead or use set_index after rename to create an indexed coordinate.\n",
      "  self.dataset = self.dataset.rename({\"threshold\": \"gwl\"}) if \"threshold\" in self.dataset.coords else self.dataset\n"
     ]
    },
    {
     "data": {
      "text/plain": [
       "<xarray.Dataset> Size: 10MB\n",
       "Dimensions:   (lon: 720, lat: 360, gwl: 5)\n",
       "Coordinates:\n",
       "  * lon       (lon) float32 3kB -179.8 -179.2 -178.8 ... 178.8 179.2 179.8\n",
       "  * lat       (lat) float32 1kB 89.75 89.25 88.75 88.25 ... -88.75 -89.25 -89.75\n",
       "  * gwl       (gwl) float64 40B 1.2 1.5 2.0 2.5 3.0\n",
       "Data variables:\n",
       "    dri_qtot  (gwl, lat, lon) float64 10MB dask.array<chunksize=(1, 360, 720), meta=np.ndarray>"
      ]
     },
     "execution_count": 9,
     "metadata": {},
     "output_type": "execute_result"
    }
   ],
   "source": [
    "# load data from test data within repo\n",
    "\n",
    "ssp = \"ssp2\"\n",
    "ftype = \"abs\"\n",
    "impact_data_dir = 'test_data'  # test data in the repo\n",
    "ind = 'dri_qtot'\n",
    "files = glob.glob(f\"{impact_data_dir}/*{ind}_*{ftype}.nc4\")\n",
    "\n",
    "mapdata = RasterArray(files)\n",
    "mapdata"
   ]
  },
  {
   "cell_type": "code",
   "execution_count": null,
   "id": "af9212c3-d414-4e6f-b89a-a9d65bd48cbc",
   "metadata": {},
   "outputs": [],
   "source": [
    "# Prepare data (using split_files on sharepoint)\n",
    "# impact_data_dir = '/mnt/c/users/byers/iiasa/ECE.prog - Documents/Research Theme - NEXUS/Hotspots_Explorer_2p0/rcre_testing/rime_testdata'\n",
    "# impact_data_dir = 'test_data'\n",
    "# # indicators = ['dri','iavar']\n",
    "# ind = 'dri_qtot'\n",
    "\n",
    "# files = glob.glob(f\"{impact_data_dir}/*{ind}_*{ftype}.nc4\")\n",
    "# mapdata = xr.open_mfdataset(\n",
    "#     files, preprocess=remove_ssp_from_ds, combine=\"nested\", concat_dim=\"gwl\"\n",
    "# )\n",
    "\n",
    "# mapdata.data"
   ]
  },
  {
   "cell_type": "code",
   "execution_count": 11,
   "id": "f4c31c82",
   "metadata": {},
   "outputs": [
    {
     "name": "stdout",
     "output_type": "stream",
     "text": [
      "Test multiple IAM scenarios, 1 indicator\n",
      "Single indicator mode (multi-scenarios possible)\n",
      "COFFEE_1_1_EN_NPi2020_400f_lowBECCS\n",
      "GCAM_5_3_NGFS2_Current Policies\n",
      "IMAGE_3_0_EN_INDCi2030_3000f\n",
      "IMAGE_3_0_1_SSP1-26\n",
      "IMAGE_3_0_1_SSP2-45\n",
      "IMAGE_3_0_1_SSP3-Baseline\n",
      "IMAGE_3_0_1_SSP5-Baseline\n",
      "REMIND-MAgPIE_2_1-4_2_SusDev_SDP-PkBudg1000\n",
      "WITCH_5_0_CO_Bridge\n"
     ]
    },
    {
     "name": "stderr",
     "output_type": "stream",
     "text": [
      "/home/byers/venvs/rimeclasses/lib/python3.10/site-packages/pyam/core.py:2691: FutureWarning: unique with argument that is not not a Series, Index, ExtensionArray, or np.ndarray is deprecated and will raise in a future version.\n",
      "  index = pd.unique(index)\n",
      "/home/byers/venvs/rimeclasses/lib/python3.10/site-packages/pyam/core.py:2691: FutureWarning: unique with argument that is not not a Series, Index, ExtensionArray, or np.ndarray is deprecated and will raise in a future version.\n",
      "  index = pd.unique(index)\n",
      "/home/byers/venvs/rimeclasses/lib/python3.10/site-packages/pyam/core.py:2691: FutureWarning: unique with argument that is not not a Series, Index, ExtensionArray, or np.ndarray is deprecated and will raise in a future version.\n",
      "  index = pd.unique(index)\n",
      "/home/byers/venvs/rimeclasses/lib/python3.10/site-packages/pyam/core.py:2691: FutureWarning: unique with argument that is not not a Series, Index, ExtensionArray, or np.ndarray is deprecated and will raise in a future version.\n",
      "  index = pd.unique(index)\n",
      "/home/byers/venvs/rimeclasses/lib/python3.10/site-packages/pyam/core.py:2691: FutureWarning: unique with argument that is not not a Series, Index, ExtensionArray, or np.ndarray is deprecated and will raise in a future version.\n",
      "  index = pd.unique(index)\n",
      "/home/byers/venvs/rimeclasses/lib/python3.10/site-packages/pyam/core.py:2691: FutureWarning: unique with argument that is not not a Series, Index, ExtensionArray, or np.ndarray is deprecated and will raise in a future version.\n",
      "  index = pd.unique(index)\n",
      "/home/byers/venvs/rimeclasses/lib/python3.10/site-packages/pyam/core.py:2691: FutureWarning: unique with argument that is not not a Series, Index, ExtensionArray, or np.ndarray is deprecated and will raise in a future version.\n",
      "  index = pd.unique(index)\n",
      "/home/byers/venvs/rimeclasses/lib/python3.10/site-packages/pyam/core.py:2691: FutureWarning: unique with argument that is not not a Series, Index, ExtensionArray, or np.ndarray is deprecated and will raise in a future version.\n",
      "  index = pd.unique(index)\n",
      "/home/byers/venvs/rimeclasses/lib/python3.10/site-packages/pyam/core.py:2691: FutureWarning: unique with argument that is not not a Series, Index, ExtensionArray, or np.ndarray is deprecated and will raise in a future version.\n",
      "  index = pd.unique(index)\n",
      "/home/byers/venvs/rimeclasses/lib/python3.10/site-packages/setuptools_scm/_integration/setuptools.py:30: RuntimeWarning: \n",
      "ERROR: setuptools==59.6.0 is used in combination with setuptools_scm>=8.x\n",
      "\n",
      "Your build configuration is incomplete and previously worked by accident!\n",
      "setuptools_scm requires setuptools>=61\n",
      "\n",
      "Suggested workaround if applicable:\n",
      " - migrating from the deprecated setup_requires mechanism to pep517/518\n",
      "   and using a pyproject.toml to declare build dependencies\n",
      "   which are reliably pre-installed before running the build tools\n",
      "\n",
      "  warnings.warn(\n",
      "/home/byers/venvs/rimeclasses/lib/python3.10/site-packages/setuptools_scm/_integration/setuptools.py:30: RuntimeWarning: \n",
      "ERROR: setuptools==59.6.0 is used in combination with setuptools_scm>=8.x\n",
      "\n",
      "Your build configuration is incomplete and previously worked by accident!\n",
      "setuptools_scm requires setuptools>=61\n",
      "\n",
      "Suggested workaround if applicable:\n",
      " - migrating from the deprecated setup_requires mechanism to pep517/518\n",
      "   and using a pyproject.toml to declare build dependencies\n",
      "   which are reliably pre-installed before running the build tools\n",
      "\n",
      "  warnings.warn(\n",
      "/home/byers/venvs/rimeclasses/lib/python3.10/site-packages/setuptools_scm/_integration/setuptools.py:30: RuntimeWarning: \n",
      "ERROR: setuptools==59.6.0 is used in combination with setuptools_scm>=8.x\n",
      "\n",
      "Your build configuration is incomplete and previously worked by accident!\n",
      "setuptools_scm requires setuptools>=61\n",
      "\n",
      "Suggested workaround if applicable:\n",
      " - migrating from the deprecated setup_requires mechanism to pep517/518\n",
      "   and using a pyproject.toml to declare build dependencies\n",
      "   which are reliably pre-installed before running the build tools\n",
      "\n",
      "  warnings.warn(\n",
      "/home/byers/venvs/rimeclasses/lib/python3.10/site-packages/setuptools_scm/_integration/setuptools.py:30: RuntimeWarning: \n",
      "ERROR: setuptools==59.6.0 is used in combination with setuptools_scm>=8.x\n",
      "\n",
      "Your build configuration is incomplete and previously worked by accident!\n",
      "setuptools_scm requires setuptools>=61\n",
      "\n",
      "Suggested workaround if applicable:\n",
      " - migrating from the deprecated setup_requires mechanism to pep517/518\n",
      "   and using a pyproject.toml to declare build dependencies\n",
      "   which are reliably pre-installed before running the build tools\n",
      "\n",
      "  warnings.warn(\n",
      "/home/byers/venvs/rimeclasses/lib/python3.10/site-packages/pyam/core.py:2691: FutureWarning: unique with argument that is not not a Series, Index, ExtensionArray, or np.ndarray is deprecated and will raise in a future version.\n",
      "  index = pd.unique(index)\n",
      "/home/byers/venvs/rimeclasses/lib/python3.10/site-packages/pyam/core.py:2691: FutureWarning: unique with argument that is not not a Series, Index, ExtensionArray, or np.ndarray is deprecated and will raise in a future version.\n",
      "  index = pd.unique(index)\n",
      "/home/byers/venvs/rimeclasses/lib/python3.10/site-packages/pyam/core.py:2691: FutureWarning: unique with argument that is not not a Series, Index, ExtensionArray, or np.ndarray is deprecated and will raise in a future version.\n",
      "  index = pd.unique(index)\n",
      "/home/byers/venvs/rimeclasses/lib/python3.10/site-packages/pyam/core.py:2691: FutureWarning: unique with argument that is not not a Series, Index, ExtensionArray, or np.ndarray is deprecated and will raise in a future version.\n",
      "  index = pd.unique(index)\n",
      "/home/byers/venvs/rimeclasses/lib/python3.10/site-packages/pyam/core.py:2691: FutureWarning: unique with argument that is not not a Series, Index, ExtensionArray, or np.ndarray is deprecated and will raise in a future version.\n",
      "  index = pd.unique(index)\n",
      "/home/byers/venvs/rimeclasses/lib/python3.10/site-packages/pyam/core.py:2691: FutureWarning: unique with argument that is not not a Series, Index, ExtensionArray, or np.ndarray is deprecated and will raise in a future version.\n",
      "  index = pd.unique(index)\n",
      "/home/byers/venvs/rimeclasses/lib/python3.10/site-packages/pyam/core.py:2691: FutureWarning: unique with argument that is not not a Series, Index, ExtensionArray, or np.ndarray is deprecated and will raise in a future version.\n",
      "  index = pd.unique(index)\n",
      "/home/byers/venvs/rimeclasses/lib/python3.10/site-packages/pyam/core.py:2691: FutureWarning: unique with argument that is not not a Series, Index, ExtensionArray, or np.ndarray is deprecated and will raise in a future version.\n",
      "  index = pd.unique(index)\n",
      "/home/byers/rime/rime/rime_functions.py:317: UserWarning: rename 'gwl' to 'year' does not create an index anymore. Try using swap_dims instead or use set_index after rename to create an indexed coordinate.\n",
      "  updated_data = updated_data.rename({\"gwl\":\"year\"})\n",
      "/home/byers/rime/rime/rime_functions.py:317: UserWarning: rename 'gwl' to 'year' does not create an index anymore. Try using swap_dims instead or use set_index after rename to create an indexed coordinate.\n",
      "  updated_data = updated_data.rename({\"gwl\":\"year\"})\n",
      "/home/byers/rime/rime/rime_functions.py:317: UserWarning: rename 'gwl' to 'year' does not create an index anymore. Try using swap_dims instead or use set_index after rename to create an indexed coordinate.\n",
      "  updated_data = updated_data.rename({\"gwl\":\"year\"})\n",
      "/home/byers/rime/rime/rime_functions.py:317: UserWarning: rename 'gwl' to 'year' does not create an index anymore. Try using swap_dims instead or use set_index after rename to create an indexed coordinate.\n",
      "  updated_data = updated_data.rename({\"gwl\":\"year\"})\n"
     ]
    },
    {
     "name": "stdout",
     "output_type": "stream",
     "text": [
      "FINISHED Test multiple scenarios, 1 indicator\n",
      "7.238605499267578\n"
     ]
    }
   ],
   "source": [
    "print(\"Test multiple IAM scenarios, 1 indicator\")\n",
    "\n",
    "start = time.time()\n",
    "\n",
    "# Run function\n",
    "# Using dask for small numbers of scenarios ~<10 can be slower due to spawning of workers.\n",
    "# use_dask=True works, but unintended behavious, only produces data for 1 IAM scenario, not all. Check aggregation\n",
    "map_out_MS = map_transform_gwl_wrapper(\n",
    "    ssps_imp,\n",
    "    mapdata,\n",
    "    years,\n",
    "    caution_checks=True,\n",
    "    use_dask=False,\n",
    "    include_orig_gwl=False,\n",
    "    gwl_name=\"gwl\",\n",
    "    drawdown_max=0.15,\n",
    "    temp_min=1.2,\n",
    "    temp_max=3.0,\n",
    "    interpolation=0.01,\n",
    ")\n",
    "\n",
    "comp = dict(zlib=True, complevel=5)\n",
    "encoding = {var: comp for var in map_out_MS.data_vars}\n",
    "filename = f\"scenario_maps_multiscenario_{ftype}_test_notebook.nc\"\n",
    "map_out_MS.to_netcdf(filename, encoding=encoding)\n",
    "\n",
    "print(\"FINISHED Test multiple scenarios, 1 indicator\")\n",
    "print(f\"{time.time()-start}\")"
   ]
  },
  {
   "cell_type": "code",
   "execution_count": null,
   "id": "794bd1c3",
   "metadata": {},
   "outputs": [],
   "source": [
    "map_out_MS.COFFEE_1_1_EN_NPi2020_400f_lowBECCS.sel(year=2050).plot()"
   ]
  },
  {
   "cell_type": "markdown",
   "id": "f31bf98d",
   "metadata": {},
   "source": [
    "## Example 2: ONE scenario, multiple climate indicators\n"
   ]
  },
  {
   "cell_type": "markdown",
   "id": "07f26175",
   "metadata": {},
   "source": [
    "### Build combined dataset with multiple indicators"
   ]
  },
  {
   "cell_type": "code",
   "execution_count": 14,
   "id": "85bab5fb",
   "metadata": {},
   "outputs": [
    {
     "name": "stdout",
     "output_type": "stream",
     "text": [
      "Test 1 scenario, multiple climate indicators\n",
      "dri\n",
      "FrozenMappingWarningOnValuesAccess({'lon': 720, 'lat': 360, 'gwl': 5})\n",
      "iavar\n",
      "FrozenMappingWarningOnValuesAccess({'lon': 720, 'lat': 360, 'gwl': 5})\n",
      "FrozenMappingWarningOnValuesAccess({'lon': 720, 'lat': 360, 'gwl': 5})\n"
     ]
    },
    {
     "name": "stderr",
     "output_type": "stream",
     "text": [
      "/home/byers/rime/rime/core.py:114: UserWarning: rename 'threshold' to 'gwl' does not create an index anymore. Try using swap_dims instead or use set_index after rename to create an indexed coordinate.\n",
      "  self.dataset = self.dataset.rename({\"threshold\": \"gwl\"}) if \"threshold\" in self.dataset.coords else self.dataset\n",
      "/home/byers/rime/rime/core.py:114: UserWarning: rename 'threshold' to 'gwl' does not create an index anymore. Try using swap_dims instead or use set_index after rename to create an indexed coordinate.\n",
      "  self.dataset = self.dataset.rename({\"threshold\": \"gwl\"}) if \"threshold\" in self.dataset.coords else self.dataset\n"
     ]
    },
    {
     "data": {
      "text/plain": [
       "<xarray.Dataset> Size: 16MB\n",
       "Dimensions:     (lon: 720, lat: 360, gwl: 5)\n",
       "Coordinates:\n",
       "  * lon         (lon) float32 3kB -179.8 -179.2 -178.8 ... 178.8 179.2 179.8\n",
       "  * lat         (lat) float32 1kB 89.75 89.25 88.75 ... -88.75 -89.25 -89.75\n",
       "  * gwl         (gwl) float64 40B 1.2 1.5 2.0 2.5 3.0\n",
       "Data variables:\n",
       "    dri_qtot    (gwl, lat, lon) float64 10MB dask.array<chunksize=(1, 360, 720), meta=np.ndarray>\n",
       "    iavar_qtot  (gwl, lat, lon) float32 5MB dask.array<chunksize=(1, 360, 720), meta=np.ndarray>"
      ]
     },
     "execution_count": 14,
     "metadata": {},
     "output_type": "execute_result"
    }
   ],
   "source": [
    "# Doesn't work -0\n",
    "# AttributeError: 'DataArray' object has no attribute 'rename_vars'\n",
    "# lines 230-233 in map_transform_gmt\n",
    "\n",
    "gwl_name = \"gwl\"\n",
    "print(\"Test 1 scenario, multiple climate indicators\")\n",
    "ssp = \"ssp2\"\n",
    "mapdata = xr.Dataset()\n",
    "\n",
    "# impact_data_dir = '/mnt/p/watxene/ISIMIP_postprocessed/cse/split_files_fixed'\n",
    "impact_data_dir = 'test_data'\n",
    "indicators = ['dri','iavar']\n",
    "for ind in indicators:\n",
    "\n",
    "    print(ind)\n",
    "    files = glob.glob(f\"{impact_data_dir}/ISI*{ind}*_{ftype}*.nc4\")\n",
    "        \n",
    "    # a = xr.open_mfdataset(\n",
    "            # files, preprocess=remove_ssp_from_ds, combine=\"nested\", concat_dim=\"gwl\")\n",
    "\n",
    "    a = RasterArray(files)\n",
    "    \n",
    "    for x in a.xrdataset.data_vars:\n",
    "        mapdata[x] = a.xrdataset[x]\n",
    "\n",
    "mapdata = RasterArray(mapdata)\n",
    "mapdata"
   ]
  },
  {
   "cell_type": "markdown",
   "id": "cc24e437",
   "metadata": {},
   "source": [
    "### Run transformation (2 impact indicators) (faster with dask=False)"
   ]
  },
  {
   "cell_type": "code",
   "execution_count": 15,
   "id": "bd26a126",
   "metadata": {},
   "outputs": [
    {
     "name": "stderr",
     "output_type": "stream",
     "text": [
      "/home/byers/venvs/rimeclasses/lib/python3.10/site-packages/pyam/core.py:2691: FutureWarning: unique with argument that is not not a Series, Index, ExtensionArray, or np.ndarray is deprecated and will raise in a future version.\n",
      "  index = pd.unique(index)\n",
      "/home/byers/venvs/rimeclasses/lib/python3.10/site-packages/pyam/core.py:2691: FutureWarning: unique with argument that is not not a Series, Index, ExtensionArray, or np.ndarray is deprecated and will raise in a future version.\n",
      "  index = pd.unique(index)\n",
      "/home/byers/rime/rime/rime_functions.py:317: UserWarning: rename 'gwl' to 'year' does not create an index anymore. Try using swap_dims instead or use set_index after rename to create an indexed coordinate.\n",
      "  updated_data = updated_data.rename({\"gwl\":\"year\"})\n"
     ]
    },
    {
     "name": "stdout",
     "output_type": "stream",
     "text": [
      "Single scenario mode, multiple indicators possible\n",
      "Warning! Max temperature above 3.0°C  3.05, data thereafter not possible\n",
      "Warning! Min temperature below 1.2°C  1.12, data before not possible\n",
      "Warning! Provided scenario temperatures are higher than the available climate impacts GWLs. Setting temp_max to 3.0\n",
      "Warning! Provided scenario temperatures are lower than the available climate impacts GWLs. Setting temp_min to 1.2\n",
      "FINISHED 1 scenario, multiple indicators\n",
      "1.7668366432189941\n"
     ]
    }
   ],
   "source": [
    "# Notes - works with use_dask=False\n",
    "# True gives problem that DataArray is being passed to map_transform_gwl instead of DS\n",
    "# Approx error L279. mapdata_interp should be a DS\n",
    "# Possibly its empty, cannot convert to \n",
    "# AttributeError: 'DataArray' object has no attribute 'data_vars'\n",
    "\n",
    "\n",
    "start = time.time()\n",
    "map_out_MI = map_transform_gwl_wrapper(\n",
    "    ssps_imp.df.filter(IMP_marker=\"CurPol\"),\n",
    "    mapdata,\n",
    "    years,\n",
    "    use_dask=False,\n",
    "    include_orig_gwl=False,\n",
    "    gwl_name=\"gwl\",\n",
    "    drawdown_max=0.15,\n",
    "    temp_min=1.2,\n",
    "    temp_max=3.0,\n",
    "    interpolation=0.01,\n",
    ")\n",
    "\n",
    "comp = dict(zlib=True, complevel=5)\n",
    "encoding = {var: comp for var in map_out_MI.data_vars}\n",
    "filename = f\"scenario_maps_multiindicator_{ftype}_test_notebook.nc\"\n",
    "map_out_MI.to_netcdf(filename, encoding=encoding)\n",
    "\n",
    "print(\"FINISHED 1 scenario, multiple indicators\")\n",
    "print(f\"{time.time()-start}\")"
   ]
  },
  {
   "cell_type": "markdown",
   "id": "8c7c007c",
   "metadata": {},
   "source": [
    "### Data is now transformed to 5 year interval starting 2015"
   ]
  },
  {
   "cell_type": "code",
   "execution_count": 16,
   "id": "169f89a5",
   "metadata": {},
   "outputs": [
    {
     "data": {
      "text/html": [
       "<div><svg style=\"position: absolute; width: 0; height: 0; overflow: hidden\">\n",
       "<defs>\n",
       "<symbol id=\"icon-database\" viewBox=\"0 0 32 32\">\n",
       "<path d=\"M16 0c-8.837 0-16 2.239-16 5v4c0 2.761 7.163 5 16 5s16-2.239 16-5v-4c0-2.761-7.163-5-16-5z\"></path>\n",
       "<path d=\"M16 17c-8.837 0-16-2.239-16-5v6c0 2.761 7.163 5 16 5s16-2.239 16-5v-6c0 2.761-7.163 5-16 5z\"></path>\n",
       "<path d=\"M16 26c-8.837 0-16-2.239-16-5v6c0 2.761 7.163 5 16 5s16-2.239 16-5v-6c0 2.761-7.163 5-16 5z\"></path>\n",
       "</symbol>\n",
       "<symbol id=\"icon-file-text2\" viewBox=\"0 0 32 32\">\n",
       "<path d=\"M28.681 7.159c-0.694-0.947-1.662-2.053-2.724-3.116s-2.169-2.030-3.116-2.724c-1.612-1.182-2.393-1.319-2.841-1.319h-15.5c-1.378 0-2.5 1.121-2.5 2.5v27c0 1.378 1.122 2.5 2.5 2.5h23c1.378 0 2.5-1.122 2.5-2.5v-19.5c0-0.448-0.137-1.23-1.319-2.841zM24.543 5.457c0.959 0.959 1.712 1.825 2.268 2.543h-4.811v-4.811c0.718 0.556 1.584 1.309 2.543 2.268zM28 29.5c0 0.271-0.229 0.5-0.5 0.5h-23c-0.271 0-0.5-0.229-0.5-0.5v-27c0-0.271 0.229-0.5 0.5-0.5 0 0 15.499-0 15.5 0v7c0 0.552 0.448 1 1 1h7v19.5z\"></path>\n",
       "<path d=\"M23 26h-14c-0.552 0-1-0.448-1-1s0.448-1 1-1h14c0.552 0 1 0.448 1 1s-0.448 1-1 1z\"></path>\n",
       "<path d=\"M23 22h-14c-0.552 0-1-0.448-1-1s0.448-1 1-1h14c0.552 0 1 0.448 1 1s-0.448 1-1 1z\"></path>\n",
       "<path d=\"M23 18h-14c-0.552 0-1-0.448-1-1s0.448-1 1-1h14c0.552 0 1 0.448 1 1s-0.448 1-1 1z\"></path>\n",
       "</symbol>\n",
       "</defs>\n",
       "</svg>\n",
       "<style>/* CSS stylesheet for displaying xarray objects in jupyterlab.\n",
       " *\n",
       " */\n",
       "\n",
       ":root {\n",
       "  --xr-font-color0: var(--jp-content-font-color0, rgba(0, 0, 0, 1));\n",
       "  --xr-font-color2: var(--jp-content-font-color2, rgba(0, 0, 0, 0.54));\n",
       "  --xr-font-color3: var(--jp-content-font-color3, rgba(0, 0, 0, 0.38));\n",
       "  --xr-border-color: var(--jp-border-color2, #e0e0e0);\n",
       "  --xr-disabled-color: var(--jp-layout-color3, #bdbdbd);\n",
       "  --xr-background-color: var(--jp-layout-color0, white);\n",
       "  --xr-background-color-row-even: var(--jp-layout-color1, white);\n",
       "  --xr-background-color-row-odd: var(--jp-layout-color2, #eeeeee);\n",
       "}\n",
       "\n",
       "html[theme=dark],\n",
       "body[data-theme=dark],\n",
       "body.vscode-dark {\n",
       "  --xr-font-color0: rgba(255, 255, 255, 1);\n",
       "  --xr-font-color2: rgba(255, 255, 255, 0.54);\n",
       "  --xr-font-color3: rgba(255, 255, 255, 0.38);\n",
       "  --xr-border-color: #1F1F1F;\n",
       "  --xr-disabled-color: #515151;\n",
       "  --xr-background-color: #111111;\n",
       "  --xr-background-color-row-even: #111111;\n",
       "  --xr-background-color-row-odd: #313131;\n",
       "}\n",
       "\n",
       ".xr-wrap {\n",
       "  display: block !important;\n",
       "  min-width: 300px;\n",
       "  max-width: 700px;\n",
       "}\n",
       "\n",
       ".xr-text-repr-fallback {\n",
       "  /* fallback to plain text repr when CSS is not injected (untrusted notebook) */\n",
       "  display: none;\n",
       "}\n",
       "\n",
       ".xr-header {\n",
       "  padding-top: 6px;\n",
       "  padding-bottom: 6px;\n",
       "  margin-bottom: 4px;\n",
       "  border-bottom: solid 1px var(--xr-border-color);\n",
       "}\n",
       "\n",
       ".xr-header > div,\n",
       ".xr-header > ul {\n",
       "  display: inline;\n",
       "  margin-top: 0;\n",
       "  margin-bottom: 0;\n",
       "}\n",
       "\n",
       ".xr-obj-type,\n",
       ".xr-array-name {\n",
       "  margin-left: 2px;\n",
       "  margin-right: 10px;\n",
       "}\n",
       "\n",
       ".xr-obj-type {\n",
       "  color: var(--xr-font-color2);\n",
       "}\n",
       "\n",
       ".xr-sections {\n",
       "  padding-left: 0 !important;\n",
       "  display: grid;\n",
       "  grid-template-columns: 150px auto auto 1fr 20px 20px;\n",
       "}\n",
       "\n",
       ".xr-section-item {\n",
       "  display: contents;\n",
       "}\n",
       "\n",
       ".xr-section-item input {\n",
       "  display: none;\n",
       "}\n",
       "\n",
       ".xr-section-item input + label {\n",
       "  color: var(--xr-disabled-color);\n",
       "}\n",
       "\n",
       ".xr-section-item input:enabled + label {\n",
       "  cursor: pointer;\n",
       "  color: var(--xr-font-color2);\n",
       "}\n",
       "\n",
       ".xr-section-item input:enabled + label:hover {\n",
       "  color: var(--xr-font-color0);\n",
       "}\n",
       "\n",
       ".xr-section-summary {\n",
       "  grid-column: 1;\n",
       "  color: var(--xr-font-color2);\n",
       "  font-weight: 500;\n",
       "}\n",
       "\n",
       ".xr-section-summary > span {\n",
       "  display: inline-block;\n",
       "  padding-left: 0.5em;\n",
       "}\n",
       "\n",
       ".xr-section-summary-in:disabled + label {\n",
       "  color: var(--xr-font-color2);\n",
       "}\n",
       "\n",
       ".xr-section-summary-in + label:before {\n",
       "  display: inline-block;\n",
       "  content: '►';\n",
       "  font-size: 11px;\n",
       "  width: 15px;\n",
       "  text-align: center;\n",
       "}\n",
       "\n",
       ".xr-section-summary-in:disabled + label:before {\n",
       "  color: var(--xr-disabled-color);\n",
       "}\n",
       "\n",
       ".xr-section-summary-in:checked + label:before {\n",
       "  content: '▼';\n",
       "}\n",
       "\n",
       ".xr-section-summary-in:checked + label > span {\n",
       "  display: none;\n",
       "}\n",
       "\n",
       ".xr-section-summary,\n",
       ".xr-section-inline-details {\n",
       "  padding-top: 4px;\n",
       "  padding-bottom: 4px;\n",
       "}\n",
       "\n",
       ".xr-section-inline-details {\n",
       "  grid-column: 2 / -1;\n",
       "}\n",
       "\n",
       ".xr-section-details {\n",
       "  display: none;\n",
       "  grid-column: 1 / -1;\n",
       "  margin-bottom: 5px;\n",
       "}\n",
       "\n",
       ".xr-section-summary-in:checked ~ .xr-section-details {\n",
       "  display: contents;\n",
       "}\n",
       "\n",
       ".xr-array-wrap {\n",
       "  grid-column: 1 / -1;\n",
       "  display: grid;\n",
       "  grid-template-columns: 20px auto;\n",
       "}\n",
       "\n",
       ".xr-array-wrap > label {\n",
       "  grid-column: 1;\n",
       "  vertical-align: top;\n",
       "}\n",
       "\n",
       ".xr-preview {\n",
       "  color: var(--xr-font-color3);\n",
       "}\n",
       "\n",
       ".xr-array-preview,\n",
       ".xr-array-data {\n",
       "  padding: 0 5px !important;\n",
       "  grid-column: 2;\n",
       "}\n",
       "\n",
       ".xr-array-data,\n",
       ".xr-array-in:checked ~ .xr-array-preview {\n",
       "  display: none;\n",
       "}\n",
       "\n",
       ".xr-array-in:checked ~ .xr-array-data,\n",
       ".xr-array-preview {\n",
       "  display: inline-block;\n",
       "}\n",
       "\n",
       ".xr-dim-list {\n",
       "  display: inline-block !important;\n",
       "  list-style: none;\n",
       "  padding: 0 !important;\n",
       "  margin: 0;\n",
       "}\n",
       "\n",
       ".xr-dim-list li {\n",
       "  display: inline-block;\n",
       "  padding: 0;\n",
       "  margin: 0;\n",
       "}\n",
       "\n",
       ".xr-dim-list:before {\n",
       "  content: '(';\n",
       "}\n",
       "\n",
       ".xr-dim-list:after {\n",
       "  content: ')';\n",
       "}\n",
       "\n",
       ".xr-dim-list li:not(:last-child):after {\n",
       "  content: ',';\n",
       "  padding-right: 5px;\n",
       "}\n",
       "\n",
       ".xr-has-index {\n",
       "  font-weight: bold;\n",
       "}\n",
       "\n",
       ".xr-var-list,\n",
       ".xr-var-item {\n",
       "  display: contents;\n",
       "}\n",
       "\n",
       ".xr-var-item > div,\n",
       ".xr-var-item label,\n",
       ".xr-var-item > .xr-var-name span {\n",
       "  background-color: var(--xr-background-color-row-even);\n",
       "  margin-bottom: 0;\n",
       "}\n",
       "\n",
       ".xr-var-item > .xr-var-name:hover span {\n",
       "  padding-right: 5px;\n",
       "}\n",
       "\n",
       ".xr-var-list > li:nth-child(odd) > div,\n",
       ".xr-var-list > li:nth-child(odd) > label,\n",
       ".xr-var-list > li:nth-child(odd) > .xr-var-name span {\n",
       "  background-color: var(--xr-background-color-row-odd);\n",
       "}\n",
       "\n",
       ".xr-var-name {\n",
       "  grid-column: 1;\n",
       "}\n",
       "\n",
       ".xr-var-dims {\n",
       "  grid-column: 2;\n",
       "}\n",
       "\n",
       ".xr-var-dtype {\n",
       "  grid-column: 3;\n",
       "  text-align: right;\n",
       "  color: var(--xr-font-color2);\n",
       "}\n",
       "\n",
       ".xr-var-preview {\n",
       "  grid-column: 4;\n",
       "}\n",
       "\n",
       ".xr-index-preview {\n",
       "  grid-column: 2 / 5;\n",
       "  color: var(--xr-font-color2);\n",
       "}\n",
       "\n",
       ".xr-var-name,\n",
       ".xr-var-dims,\n",
       ".xr-var-dtype,\n",
       ".xr-preview,\n",
       ".xr-attrs dt {\n",
       "  white-space: nowrap;\n",
       "  overflow: hidden;\n",
       "  text-overflow: ellipsis;\n",
       "  padding-right: 10px;\n",
       "}\n",
       "\n",
       ".xr-var-name:hover,\n",
       ".xr-var-dims:hover,\n",
       ".xr-var-dtype:hover,\n",
       ".xr-attrs dt:hover {\n",
       "  overflow: visible;\n",
       "  width: auto;\n",
       "  z-index: 1;\n",
       "}\n",
       "\n",
       ".xr-var-attrs,\n",
       ".xr-var-data,\n",
       ".xr-index-data {\n",
       "  display: none;\n",
       "  background-color: var(--xr-background-color) !important;\n",
       "  padding-bottom: 5px !important;\n",
       "}\n",
       "\n",
       ".xr-var-attrs-in:checked ~ .xr-var-attrs,\n",
       ".xr-var-data-in:checked ~ .xr-var-data,\n",
       ".xr-index-data-in:checked ~ .xr-index-data {\n",
       "  display: block;\n",
       "}\n",
       "\n",
       ".xr-var-data > table {\n",
       "  float: right;\n",
       "}\n",
       "\n",
       ".xr-var-name span,\n",
       ".xr-var-data,\n",
       ".xr-index-name div,\n",
       ".xr-index-data,\n",
       ".xr-attrs {\n",
       "  padding-left: 25px !important;\n",
       "}\n",
       "\n",
       ".xr-attrs,\n",
       ".xr-var-attrs,\n",
       ".xr-var-data,\n",
       ".xr-index-data {\n",
       "  grid-column: 1 / -1;\n",
       "}\n",
       "\n",
       "dl.xr-attrs {\n",
       "  padding: 0;\n",
       "  margin: 0;\n",
       "  display: grid;\n",
       "  grid-template-columns: 125px auto;\n",
       "}\n",
       "\n",
       ".xr-attrs dt,\n",
       ".xr-attrs dd {\n",
       "  padding: 0;\n",
       "  margin: 0;\n",
       "  float: left;\n",
       "  padding-right: 10px;\n",
       "  width: auto;\n",
       "}\n",
       "\n",
       ".xr-attrs dt {\n",
       "  font-weight: normal;\n",
       "  grid-column: 1;\n",
       "}\n",
       "\n",
       ".xr-attrs dt:hover span {\n",
       "  display: inline-block;\n",
       "  background: var(--xr-background-color);\n",
       "  padding-right: 10px;\n",
       "}\n",
       "\n",
       ".xr-attrs dd {\n",
       "  grid-column: 2;\n",
       "  white-space: pre-wrap;\n",
       "  word-break: break-all;\n",
       "}\n",
       "\n",
       ".xr-icon-database,\n",
       ".xr-icon-file-text2,\n",
       ".xr-no-icon {\n",
       "  display: inline-block;\n",
       "  vertical-align: middle;\n",
       "  width: 1em;\n",
       "  height: 1.5em !important;\n",
       "  stroke-width: 0;\n",
       "  stroke: currentColor;\n",
       "  fill: currentColor;\n",
       "}\n",
       "</style><pre class='xr-text-repr-fallback'>&lt;xarray.Dataset&gt; Size: 75MB\n",
       "Dimensions:     (lat: 360, lon: 720, year: 18)\n",
       "Coordinates:\n",
       "  * lon         (lon) float32 3kB -179.8 -179.2 -178.8 ... 178.8 179.2 179.8\n",
       "  * lat         (lat) float32 1kB 89.75 89.25 88.75 ... -88.75 -89.25 -89.75\n",
       "  * year        (year) int64 144B 2015 2020 2025 2030 ... 2085 2090 2095 2100\n",
       "Data variables:\n",
       "    dri_qtot    (lat, lon, year) float64 37MB dask.array&lt;chunksize=(360, 720, 1), meta=np.ndarray&gt;\n",
       "    iavar_qtot  (lat, lon, year) float64 37MB dask.array&lt;chunksize=(360, 720, 1), meta=np.ndarray&gt;\n",
       "Attributes:\n",
       "    model:     GCAM 5.3\n",
       "    scenario:  NGFS2_Current Policies</pre><div class='xr-wrap' style='display:none'><div class='xr-header'><div class='xr-obj-type'>xarray.Dataset</div></div><ul class='xr-sections'><li class='xr-section-item'><input id='section-8b18df45-5658-48f5-8c9c-3e4580eedac7' class='xr-section-summary-in' type='checkbox' disabled ><label for='section-8b18df45-5658-48f5-8c9c-3e4580eedac7' class='xr-section-summary'  title='Expand/collapse section'>Dimensions:</label><div class='xr-section-inline-details'><ul class='xr-dim-list'><li><span class='xr-has-index'>lat</span>: 360</li><li><span class='xr-has-index'>lon</span>: 720</li><li><span class='xr-has-index'>year</span>: 18</li></ul></div><div class='xr-section-details'></div></li><li class='xr-section-item'><input id='section-849b6406-a8c6-43ba-b3f2-d87f6fc5b46d' class='xr-section-summary-in' type='checkbox'  checked><label for='section-849b6406-a8c6-43ba-b3f2-d87f6fc5b46d' class='xr-section-summary' >Coordinates: <span>(3)</span></label><div class='xr-section-inline-details'></div><div class='xr-section-details'><ul class='xr-var-list'><li class='xr-var-item'><div class='xr-var-name'><span class='xr-has-index'>lon</span></div><div class='xr-var-dims'>(lon)</div><div class='xr-var-dtype'>float32</div><div class='xr-var-preview xr-preview'>-179.8 -179.2 ... 179.2 179.8</div><input id='attrs-b9c3e637-1163-4b4f-9af3-61782835fd9c' class='xr-var-attrs-in' type='checkbox' disabled><label for='attrs-b9c3e637-1163-4b4f-9af3-61782835fd9c' title='Show/Hide attributes'><svg class='icon xr-icon-file-text2'><use xlink:href='#icon-file-text2'></use></svg></label><input id='data-dd7303a6-192f-4c9a-86cb-ef828fa2b658' class='xr-var-data-in' type='checkbox'><label for='data-dd7303a6-192f-4c9a-86cb-ef828fa2b658' title='Show/Hide data repr'><svg class='icon xr-icon-database'><use xlink:href='#icon-database'></use></svg></label><div class='xr-var-attrs'><dl class='xr-attrs'></dl></div><div class='xr-var-data'><pre>array([-179.75, -179.25, -178.75, ...,  178.75,  179.25,  179.75],\n",
       "      dtype=float32)</pre></div></li><li class='xr-var-item'><div class='xr-var-name'><span class='xr-has-index'>lat</span></div><div class='xr-var-dims'>(lat)</div><div class='xr-var-dtype'>float32</div><div class='xr-var-preview xr-preview'>89.75 89.25 88.75 ... -89.25 -89.75</div><input id='attrs-9f6b3d42-f8c3-49e8-afeb-947514789188' class='xr-var-attrs-in' type='checkbox' disabled><label for='attrs-9f6b3d42-f8c3-49e8-afeb-947514789188' title='Show/Hide attributes'><svg class='icon xr-icon-file-text2'><use xlink:href='#icon-file-text2'></use></svg></label><input id='data-0003f0c7-29c6-4b33-9b56-bd9693f9a85b' class='xr-var-data-in' type='checkbox'><label for='data-0003f0c7-29c6-4b33-9b56-bd9693f9a85b' title='Show/Hide data repr'><svg class='icon xr-icon-database'><use xlink:href='#icon-database'></use></svg></label><div class='xr-var-attrs'><dl class='xr-attrs'></dl></div><div class='xr-var-data'><pre>array([ 89.75,  89.25,  88.75, ..., -88.75, -89.25, -89.75], dtype=float32)</pre></div></li><li class='xr-var-item'><div class='xr-var-name'><span class='xr-has-index'>year</span></div><div class='xr-var-dims'>(year)</div><div class='xr-var-dtype'>int64</div><div class='xr-var-preview xr-preview'>2015 2020 2025 ... 2090 2095 2100</div><input id='attrs-3b70f7f4-2770-4764-9395-1d707d5a5870' class='xr-var-attrs-in' type='checkbox' disabled><label for='attrs-3b70f7f4-2770-4764-9395-1d707d5a5870' title='Show/Hide attributes'><svg class='icon xr-icon-file-text2'><use xlink:href='#icon-file-text2'></use></svg></label><input id='data-74e83aac-e1e2-4505-b7a4-22f64b28f028' class='xr-var-data-in' type='checkbox'><label for='data-74e83aac-e1e2-4505-b7a4-22f64b28f028' title='Show/Hide data repr'><svg class='icon xr-icon-database'><use xlink:href='#icon-database'></use></svg></label><div class='xr-var-attrs'><dl class='xr-attrs'></dl></div><div class='xr-var-data'><pre>array([2015, 2020, 2025, 2030, 2035, 2040, 2045, 2050, 2055, 2060, 2065, 2070,\n",
       "       2075, 2080, 2085, 2090, 2095, 2100])</pre></div></li></ul></div></li><li class='xr-section-item'><input id='section-66016b16-3883-4485-bd91-c2c49fe083f1' class='xr-section-summary-in' type='checkbox'  checked><label for='section-66016b16-3883-4485-bd91-c2c49fe083f1' class='xr-section-summary' >Data variables: <span>(2)</span></label><div class='xr-section-inline-details'></div><div class='xr-section-details'><ul class='xr-var-list'><li class='xr-var-item'><div class='xr-var-name'><span>dri_qtot</span></div><div class='xr-var-dims'>(lat, lon, year)</div><div class='xr-var-dtype'>float64</div><div class='xr-var-preview xr-preview'>dask.array&lt;chunksize=(360, 720, 1), meta=np.ndarray&gt;</div><input id='attrs-dfc4683b-5161-4a06-8eb6-653ebacbd6ca' class='xr-var-attrs-in' type='checkbox' ><label for='attrs-dfc4683b-5161-4a06-8eb6-653ebacbd6ca' title='Show/Hide attributes'><svg class='icon xr-icon-file-text2'><use xlink:href='#icon-file-text2'></use></svg></label><input id='data-af981dbf-830e-4495-84e2-90ad137ff317' class='xr-var-data-in' type='checkbox'><label for='data-af981dbf-830e-4495-84e2-90ad137ff317' title='Show/Hide data repr'><svg class='icon xr-icon-database'><use xlink:href='#icon-database'></use></svg></label><div class='xr-var-attrs'><dl class='xr-attrs'><dt><span>authors :</span></dt><dd>M. Werning, E. Byers &amp; colleagues</dd><dt><span>institution :</span></dt><dd>IIASA</dd><dt><span>contact :</span></dt><dd>werning@iiasa.ac.at</dd><dt><span>long_name :</span></dt><dd>Drought intensity (Runoff)</dd><dt><span>short_name :</span></dt><dd>dri_qtot</dd><dt><span>description :</span></dt><dd>Drought intensity (Runoff) absolute values</dd><dt><span>scen :</span></dt><dd>2.5°C</dd><dt><span>scenario :</span></dt><dd>ssp2_2p5</dd><dt><span>model :</span></dt><dd>climate-solutions</dd><dt><span>layerid :</span></dt><dd>dri_qtot_ssp2_2p5_abs</dd><dt><span>variable :</span></dt><dd>dri_qtot_ssp2_2p5|abs</dd></dl></div><div class='xr-var-data'><table>\n",
       "    <tr>\n",
       "        <td>\n",
       "            <table style=\"border-collapse: collapse;\">\n",
       "                <thead>\n",
       "                    <tr>\n",
       "                        <td> </td>\n",
       "                        <th> Array </th>\n",
       "                        <th> Chunk </th>\n",
       "                    </tr>\n",
       "                </thead>\n",
       "                <tbody>\n",
       "                    \n",
       "                    <tr>\n",
       "                        <th> Bytes </th>\n",
       "                        <td> 35.60 MiB </td>\n",
       "                        <td> 31.64 MiB </td>\n",
       "                    </tr>\n",
       "                    \n",
       "                    <tr>\n",
       "                        <th> Shape </th>\n",
       "                        <td> (360, 720, 18) </td>\n",
       "                        <td> (360, 720, 16) </td>\n",
       "                    </tr>\n",
       "                    <tr>\n",
       "                        <th> Dask graph </th>\n",
       "                        <td colspan=\"2\"> 3 chunks in 31 graph layers </td>\n",
       "                    </tr>\n",
       "                    <tr>\n",
       "                        <th> Data type </th>\n",
       "                        <td colspan=\"2\"> float64 numpy.ndarray </td>\n",
       "                    </tr>\n",
       "                </tbody>\n",
       "            </table>\n",
       "        </td>\n",
       "        <td>\n",
       "        <svg width=\"125\" height=\"205\" style=\"stroke:rgb(0,0,0);stroke-width:1\" >\n",
       "\n",
       "  <!-- Horizontal lines -->\n",
       "  <line x1=\"10\" y1=\"0\" x2=\"45\" y2=\"35\" style=\"stroke-width:2\" />\n",
       "  <line x1=\"10\" y1=\"120\" x2=\"45\" y2=\"155\" style=\"stroke-width:2\" />\n",
       "\n",
       "  <!-- Vertical lines -->\n",
       "  <line x1=\"10\" y1=\"0\" x2=\"10\" y2=\"120\" style=\"stroke-width:2\" />\n",
       "  <line x1=\"45\" y1=\"35\" x2=\"45\" y2=\"155\" style=\"stroke-width:2\" />\n",
       "\n",
       "  <!-- Colored Rectangle -->\n",
       "  <polygon points=\"10.0,0.0 45.294117647058826,35.294117647058826 45.294117647058826,155.29411764705884 10.0,120.0\" style=\"fill:#ECB172A0;stroke-width:0\"/>\n",
       "\n",
       "  <!-- Horizontal lines -->\n",
       "  <line x1=\"10\" y1=\"0\" x2=\"40\" y2=\"0\" style=\"stroke-width:2\" />\n",
       "  <line x1=\"45\" y1=\"35\" x2=\"75\" y2=\"35\" style=\"stroke-width:2\" />\n",
       "\n",
       "  <!-- Vertical lines -->\n",
       "  <line x1=\"10\" y1=\"0\" x2=\"45\" y2=\"35\" style=\"stroke-width:2\" />\n",
       "  <line x1=\"11\" y1=\"0\" x2=\"46\" y2=\"35\" />\n",
       "  <line x1=\"38\" y1=\"0\" x2=\"73\" y2=\"35\" />\n",
       "  <line x1=\"40\" y1=\"0\" x2=\"75\" y2=\"35\" style=\"stroke-width:2\" />\n",
       "\n",
       "  <!-- Colored Rectangle -->\n",
       "  <polygon points=\"10.0,0.0 40.311399683662884,0.0 75.60551733072171,35.294117647058826 45.294117647058826,35.294117647058826\" style=\"fill:#ECB172A0;stroke-width:0\"/>\n",
       "\n",
       "  <!-- Horizontal lines -->\n",
       "  <line x1=\"45\" y1=\"35\" x2=\"75\" y2=\"35\" style=\"stroke-width:2\" />\n",
       "  <line x1=\"45\" y1=\"155\" x2=\"75\" y2=\"155\" style=\"stroke-width:2\" />\n",
       "\n",
       "  <!-- Vertical lines -->\n",
       "  <line x1=\"45\" y1=\"35\" x2=\"45\" y2=\"155\" style=\"stroke-width:2\" />\n",
       "  <line x1=\"46\" y1=\"35\" x2=\"46\" y2=\"155\" />\n",
       "  <line x1=\"73\" y1=\"35\" x2=\"73\" y2=\"155\" />\n",
       "  <line x1=\"75\" y1=\"35\" x2=\"75\" y2=\"155\" style=\"stroke-width:2\" />\n",
       "\n",
       "  <!-- Colored Rectangle -->\n",
       "  <polygon points=\"45.294117647058826,35.294117647058826 75.60551733072171,35.294117647058826 75.60551733072171,155.29411764705884 45.294117647058826,155.29411764705884\" style=\"fill:#ECB172A0;stroke-width:0\"/>\n",
       "\n",
       "  <!-- Text -->\n",
       "  <text x=\"60.449817\" y=\"175.294118\" font-size=\"1.0rem\" font-weight=\"100\" text-anchor=\"middle\" >18</text>\n",
       "  <text x=\"95.605517\" y=\"95.294118\" font-size=\"1.0rem\" font-weight=\"100\" text-anchor=\"middle\" transform=\"rotate(-90,95.605517,95.294118)\">720</text>\n",
       "  <text x=\"17.647059\" y=\"157.647059\" font-size=\"1.0rem\" font-weight=\"100\" text-anchor=\"middle\" transform=\"rotate(45,17.647059,157.647059)\">360</text>\n",
       "</svg>\n",
       "        </td>\n",
       "    </tr>\n",
       "</table></div></li><li class='xr-var-item'><div class='xr-var-name'><span>iavar_qtot</span></div><div class='xr-var-dims'>(lat, lon, year)</div><div class='xr-var-dtype'>float64</div><div class='xr-var-preview xr-preview'>dask.array&lt;chunksize=(360, 720, 1), meta=np.ndarray&gt;</div><input id='attrs-ff7c3c09-2c3b-4cde-a562-5903b9250cbf' class='xr-var-attrs-in' type='checkbox' ><label for='attrs-ff7c3c09-2c3b-4cde-a562-5903b9250cbf' title='Show/Hide attributes'><svg class='icon xr-icon-file-text2'><use xlink:href='#icon-file-text2'></use></svg></label><input id='data-b55eb5d2-a0f7-472e-98cf-5a6ee3e1bb50' class='xr-var-data-in' type='checkbox'><label for='data-b55eb5d2-a0f7-472e-98cf-5a6ee3e1bb50' title='Show/Hide data repr'><svg class='icon xr-icon-database'><use xlink:href='#icon-database'></use></svg></label><div class='xr-var-attrs'><dl class='xr-attrs'><dt><span>authors :</span></dt><dd>M. Werning, E. Byers &amp; colleagues</dd><dt><span>institution :</span></dt><dd>IIASA</dd><dt><span>contact :</span></dt><dd>werning@iiasa.ac.at</dd><dt><span>long_name :</span></dt><dd>Inter-annual variability (Runoff)</dd><dt><span>short_name :</span></dt><dd>iavar_qtot</dd><dt><span>description :</span></dt><dd>Inter-annual variability (Runoff) absolute values</dd><dt><span>scen :</span></dt><dd>2.0°C</dd><dt><span>scenario :</span></dt><dd>ssp2_2p0</dd><dt><span>model :</span></dt><dd>climate-solutions</dd><dt><span>layerid :</span></dt><dd>iavar_qtot_ssp2_2p0_abs</dd><dt><span>variable :</span></dt><dd>iavar_qtot_ssp2_2p0|abs</dd></dl></div><div class='xr-var-data'><table>\n",
       "    <tr>\n",
       "        <td>\n",
       "            <table style=\"border-collapse: collapse;\">\n",
       "                <thead>\n",
       "                    <tr>\n",
       "                        <td> </td>\n",
       "                        <th> Array </th>\n",
       "                        <th> Chunk </th>\n",
       "                    </tr>\n",
       "                </thead>\n",
       "                <tbody>\n",
       "                    \n",
       "                    <tr>\n",
       "                        <th> Bytes </th>\n",
       "                        <td> 35.60 MiB </td>\n",
       "                        <td> 31.64 MiB </td>\n",
       "                    </tr>\n",
       "                    \n",
       "                    <tr>\n",
       "                        <th> Shape </th>\n",
       "                        <td> (360, 720, 18) </td>\n",
       "                        <td> (360, 720, 16) </td>\n",
       "                    </tr>\n",
       "                    <tr>\n",
       "                        <th> Dask graph </th>\n",
       "                        <td colspan=\"2\"> 3 chunks in 32 graph layers </td>\n",
       "                    </tr>\n",
       "                    <tr>\n",
       "                        <th> Data type </th>\n",
       "                        <td colspan=\"2\"> float64 numpy.ndarray </td>\n",
       "                    </tr>\n",
       "                </tbody>\n",
       "            </table>\n",
       "        </td>\n",
       "        <td>\n",
       "        <svg width=\"125\" height=\"205\" style=\"stroke:rgb(0,0,0);stroke-width:1\" >\n",
       "\n",
       "  <!-- Horizontal lines -->\n",
       "  <line x1=\"10\" y1=\"0\" x2=\"45\" y2=\"35\" style=\"stroke-width:2\" />\n",
       "  <line x1=\"10\" y1=\"120\" x2=\"45\" y2=\"155\" style=\"stroke-width:2\" />\n",
       "\n",
       "  <!-- Vertical lines -->\n",
       "  <line x1=\"10\" y1=\"0\" x2=\"10\" y2=\"120\" style=\"stroke-width:2\" />\n",
       "  <line x1=\"45\" y1=\"35\" x2=\"45\" y2=\"155\" style=\"stroke-width:2\" />\n",
       "\n",
       "  <!-- Colored Rectangle -->\n",
       "  <polygon points=\"10.0,0.0 45.294117647058826,35.294117647058826 45.294117647058826,155.29411764705884 10.0,120.0\" style=\"fill:#ECB172A0;stroke-width:0\"/>\n",
       "\n",
       "  <!-- Horizontal lines -->\n",
       "  <line x1=\"10\" y1=\"0\" x2=\"40\" y2=\"0\" style=\"stroke-width:2\" />\n",
       "  <line x1=\"45\" y1=\"35\" x2=\"75\" y2=\"35\" style=\"stroke-width:2\" />\n",
       "\n",
       "  <!-- Vertical lines -->\n",
       "  <line x1=\"10\" y1=\"0\" x2=\"45\" y2=\"35\" style=\"stroke-width:2\" />\n",
       "  <line x1=\"11\" y1=\"0\" x2=\"46\" y2=\"35\" />\n",
       "  <line x1=\"38\" y1=\"0\" x2=\"73\" y2=\"35\" />\n",
       "  <line x1=\"40\" y1=\"0\" x2=\"75\" y2=\"35\" style=\"stroke-width:2\" />\n",
       "\n",
       "  <!-- Colored Rectangle -->\n",
       "  <polygon points=\"10.0,0.0 40.311399683662884,0.0 75.60551733072171,35.294117647058826 45.294117647058826,35.294117647058826\" style=\"fill:#ECB172A0;stroke-width:0\"/>\n",
       "\n",
       "  <!-- Horizontal lines -->\n",
       "  <line x1=\"45\" y1=\"35\" x2=\"75\" y2=\"35\" style=\"stroke-width:2\" />\n",
       "  <line x1=\"45\" y1=\"155\" x2=\"75\" y2=\"155\" style=\"stroke-width:2\" />\n",
       "\n",
       "  <!-- Vertical lines -->\n",
       "  <line x1=\"45\" y1=\"35\" x2=\"45\" y2=\"155\" style=\"stroke-width:2\" />\n",
       "  <line x1=\"46\" y1=\"35\" x2=\"46\" y2=\"155\" />\n",
       "  <line x1=\"73\" y1=\"35\" x2=\"73\" y2=\"155\" />\n",
       "  <line x1=\"75\" y1=\"35\" x2=\"75\" y2=\"155\" style=\"stroke-width:2\" />\n",
       "\n",
       "  <!-- Colored Rectangle -->\n",
       "  <polygon points=\"45.294117647058826,35.294117647058826 75.60551733072171,35.294117647058826 75.60551733072171,155.29411764705884 45.294117647058826,155.29411764705884\" style=\"fill:#ECB172A0;stroke-width:0\"/>\n",
       "\n",
       "  <!-- Text -->\n",
       "  <text x=\"60.449817\" y=\"175.294118\" font-size=\"1.0rem\" font-weight=\"100\" text-anchor=\"middle\" >18</text>\n",
       "  <text x=\"95.605517\" y=\"95.294118\" font-size=\"1.0rem\" font-weight=\"100\" text-anchor=\"middle\" transform=\"rotate(-90,95.605517,95.294118)\">720</text>\n",
       "  <text x=\"17.647059\" y=\"157.647059\" font-size=\"1.0rem\" font-weight=\"100\" text-anchor=\"middle\" transform=\"rotate(45,17.647059,157.647059)\">360</text>\n",
       "</svg>\n",
       "        </td>\n",
       "    </tr>\n",
       "</table></div></li></ul></div></li><li class='xr-section-item'><input id='section-9688486e-949a-4826-b9e9-43c3eb2e7816' class='xr-section-summary-in' type='checkbox'  ><label for='section-9688486e-949a-4826-b9e9-43c3eb2e7816' class='xr-section-summary' >Indexes: <span>(3)</span></label><div class='xr-section-inline-details'></div><div class='xr-section-details'><ul class='xr-var-list'><li class='xr-var-item'><div class='xr-index-name'><div>lon</div></div><div class='xr-index-preview'>PandasIndex</div><div></div><input id='index-187609cb-1c74-40fe-acd9-f3f48ce176b2' class='xr-index-data-in' type='checkbox'/><label for='index-187609cb-1c74-40fe-acd9-f3f48ce176b2' title='Show/Hide index repr'><svg class='icon xr-icon-database'><use xlink:href='#icon-database'></use></svg></label><div class='xr-index-data'><pre>PandasIndex(Index([-179.75, -179.25, -178.75, -178.25, -177.75, -177.25, -176.75, -176.25,\n",
       "       -175.75, -175.25,\n",
       "       ...\n",
       "        175.25,  175.75,  176.25,  176.75,  177.25,  177.75,  178.25,  178.75,\n",
       "        179.25,  179.75],\n",
       "      dtype=&#x27;float32&#x27;, name=&#x27;lon&#x27;, length=720))</pre></div></li><li class='xr-var-item'><div class='xr-index-name'><div>lat</div></div><div class='xr-index-preview'>PandasIndex</div><div></div><input id='index-67a62133-b230-4c4e-a197-0347edfc3cae' class='xr-index-data-in' type='checkbox'/><label for='index-67a62133-b230-4c4e-a197-0347edfc3cae' title='Show/Hide index repr'><svg class='icon xr-icon-database'><use xlink:href='#icon-database'></use></svg></label><div class='xr-index-data'><pre>PandasIndex(Index([ 89.75,  89.25,  88.75,  88.25,  87.75,  87.25,  86.75,  86.25,  85.75,\n",
       "        85.25,\n",
       "       ...\n",
       "       -85.25, -85.75, -86.25, -86.75, -87.25, -87.75, -88.25, -88.75, -89.25,\n",
       "       -89.75],\n",
       "      dtype=&#x27;float32&#x27;, name=&#x27;lat&#x27;, length=360))</pre></div></li><li class='xr-var-item'><div class='xr-index-name'><div>year</div></div><div class='xr-index-preview'>PandasIndex</div><div></div><input id='index-c9cd4b00-70f6-444c-aa48-c9aa1de67c40' class='xr-index-data-in' type='checkbox'/><label for='index-c9cd4b00-70f6-444c-aa48-c9aa1de67c40' title='Show/Hide index repr'><svg class='icon xr-icon-database'><use xlink:href='#icon-database'></use></svg></label><div class='xr-index-data'><pre>PandasIndex(Index([2015, 2020, 2025, 2030, 2035, 2040, 2045, 2050, 2055, 2060, 2065, 2070,\n",
       "       2075, 2080, 2085, 2090, 2095, 2100],\n",
       "      dtype=&#x27;int64&#x27;, name=&#x27;year&#x27;))</pre></div></li></ul></div></li><li class='xr-section-item'><input id='section-e349b69d-1e2a-44bd-99d3-f6ec847ac13c' class='xr-section-summary-in' type='checkbox'  checked><label for='section-e349b69d-1e2a-44bd-99d3-f6ec847ac13c' class='xr-section-summary' >Attributes: <span>(2)</span></label><div class='xr-section-inline-details'></div><div class='xr-section-details'><dl class='xr-attrs'><dt><span>model :</span></dt><dd>GCAM 5.3</dd><dt><span>scenario :</span></dt><dd>NGFS2_Current Policies</dd></dl></div></li></ul></div></div>"
      ],
      "text/plain": [
       "<xarray.Dataset> Size: 75MB\n",
       "Dimensions:     (lat: 360, lon: 720, year: 18)\n",
       "Coordinates:\n",
       "  * lon         (lon) float32 3kB -179.8 -179.2 -178.8 ... 178.8 179.2 179.8\n",
       "  * lat         (lat) float32 1kB 89.75 89.25 88.75 ... -88.75 -89.25 -89.75\n",
       "  * year        (year) int64 144B 2015 2020 2025 2030 ... 2085 2090 2095 2100\n",
       "Data variables:\n",
       "    dri_qtot    (lat, lon, year) float64 37MB dask.array<chunksize=(360, 720, 1), meta=np.ndarray>\n",
       "    iavar_qtot  (lat, lon, year) float64 37MB dask.array<chunksize=(360, 720, 1), meta=np.ndarray>\n",
       "Attributes:\n",
       "    model:     GCAM 5.3\n",
       "    scenario:  NGFS2_Current Policies"
      ]
     },
     "execution_count": 16,
     "metadata": {},
     "output_type": "execute_result"
    }
   ],
   "source": [
    "map_out_MI"
   ]
  },
  {
   "cell_type": "markdown",
   "id": "b4ff7baa",
   "metadata": {},
   "source": [
    "## Plot dashboard (takes some minutes)"
   ]
  },
  {
   "cell_type": "code",
   "execution_count": 18,
   "id": "b407883b",
   "metadata": {},
   "outputs": [
    {
     "name": "stdout",
     "output_type": "stream",
     "text": [
      "Warning: 2063 not in original data, interpolating now\n"
     ]
    }
   ],
   "source": [
    "filename = \"test_map_notebook.html\"\n",
    "plot_maps_dashboard(\n",
    "    map_out_MI,\n",
    "    filename=filename,\n",
    "    year=2063,\n",
    "    cmap=\"magma_r\",\n",
    "    shared_axes=True,\n",
    "    clim=None,\n",
    ")\n",
    "\n",
    "from sys import platform\n",
    "if platform == \"linux\" or platform == \"linux2\":\n",
    "    # linux\n",
    "    import webbrowser\n",
    "    webbrowser.open(f'file://{os.path.realpath(filename)}')\n",
    "# elif platform == \"darwin\":\n",
    "    # OS X\n",
    "elif platform == \"win32\":\n",
    "    # Windows...\n",
    "    os.startfile(filename) # Windows\n"
   ]
  },
  {
   "cell_type": "markdown",
   "id": "53155084",
   "metadata": {},
   "source": [
    "## Process corresponding table data, aggregated by country or R10 region"
   ]
  },
  {
   "cell_type": "markdown",
   "id": "0f911d96-a2fe-49dd-928b-06216e9d37e8",
   "metadata": {},
   "source": [
    "### Select scenarios data\n",
    "Load an IAMC scenarios dataset (done previously at the beginning).  \n",
    "Decide whether using global mean temperature or CO2 mode.  \n",
    "Assign SSPs if missing and fix duplicate temperatures. "
   ]
  },
  {
   "cell_type": "markdown",
   "id": "87519f52-b034-4231-9b25-7a7d6f42064f",
   "metadata": {},
   "source": [
    "### Import the climate impacts database files\n",
    "Here is an example for sdii - standard precipitation index, and multiple variables, e.g.  \n",
    "Exposure of land area  \n",
    "Exposure of population  \n",
    "Hazard value  \n",
    "...  \n"
   ]
  },
  {
   "cell_type": "code",
   "execution_count": 45,
   "id": "a9ee85cf",
   "metadata": {},
   "outputs": [
    {
     "data": {
      "text/plain": [
       "<xarray.Dataset> Size: 230MB\n",
       "Dimensions:                                       (gwl: 251, year: 91, ssp: 3,\n",
       "                                                   region: 10)\n",
       "Coordinates:\n",
       "  * gwl                                           (gwl) float64 2kB 1.2 ... 3.5\n",
       "  * year                                          (year) int64 728B 2010 ... ...\n",
       "  * ssp                                           (ssp) <U4 48B 'SSP1' ... 'S...\n",
       "  * region                                        (region) <U83 3kB 'Countrie...\n",
       "Data variables: (12/42)\n",
       "    cdd|Exposure|Land area                        (gwl, year, ssp, region) float64 5MB dask.array<chunksize=(251, 91, 3, 10), meta=np.ndarray>\n",
       "    cdd|Exposure|Land area|%                      (gwl, year, ssp, region) float64 5MB dask.array<chunksize=(251, 91, 3, 10), meta=np.ndarray>\n",
       "    cdd|Exposure|Land area|High                   (gwl, year, ssp, region) float64 5MB dask.array<chunksize=(251, 91, 3, 10), meta=np.ndarray>\n",
       "    cdd|Exposure|Land area|High|%                 (gwl, year, ssp, region) float64 5MB dask.array<chunksize=(251, 91, 3, 10), meta=np.ndarray>\n",
       "    cdd|Exposure|Land area|Low                    (gwl, year, ssp, region) float64 5MB dask.array<chunksize=(251, 91, 3, 10), meta=np.ndarray>\n",
       "    cdd|Exposure|Land area|Low|%                  (gwl, year, ssp, region) float64 5MB dask.array<chunksize=(251, 91, 3, 10), meta=np.ndarray>\n",
       "    ...                                            ...\n",
       "    pr_r10|Hazard|Difference                      (gwl, year, ssp, region) float64 5MB dask.array<chunksize=(251, 91, 3, 10), meta=np.ndarray>\n",
       "    pr_r10|Hazard|Difference|Land area weighted   (gwl, year, ssp, region) float64 5MB dask.array<chunksize=(251, 91, 3, 10), meta=np.ndarray>\n",
       "    pr_r10|Hazard|Difference|Population weighted  (gwl, year, ssp, region) float64 5MB dask.array<chunksize=(251, 91, 3, 10), meta=np.ndarray>\n",
       "    pr_r10|Hazard|Risk score                      (gwl, year, ssp, region) float64 5MB dask.array<chunksize=(251, 91, 3, 10), meta=np.ndarray>\n",
       "    pr_r10|Hazard|Risk score|Land area weighted   (gwl, year, ssp, region) float64 5MB dask.array<chunksize=(251, 91, 3, 10), meta=np.ndarray>\n",
       "    pr_r10|Hazard|Risk score|Population weighted  (gwl, year, ssp, region) float64 5MB dask.array<chunksize=(251, 91, 3, 10), meta=np.ndarray>"
      ]
     },
     "execution_count": 45,
     "metadata": {},
     "output_type": "execute_result"
    }
   ],
   "source": [
    "# input_table_impacts_dir = '/home/byers/Sharepoint/ECE.prog - Documents/Research Theme - NEXUS/Hotspots_Explorer_2p0/rcre_testing/testing_3/aggregated_region_datafiles/'\n",
    "input_table_impacts_dir = 'test_data'\n",
    "region_choice = 'R10'\n",
    "filesall = glob.glob(f'{input_table_impacts_dir}/*{region_choice}.nc')\n",
    "files = filesall  # [:6]\n",
    "\n",
    "# load input climate impacts data file\n",
    "ds = xr.open_mfdataset(files)\n",
    "ds = RegionArray(files)\n",
    "ds"
   ]
  },
  {
   "cell_type": "code",
   "execution_count": 54,
   "id": "d1e3f825",
   "metadata": {},
   "outputs": [
    {
     "name": "stdout",
     "output_type": "stream",
     "text": [
      "# of variables = 42\n"
     ]
    }
   ],
   "source": [
    "lvaris = 00\n",
    "if lvaris>1:\n",
    "    varis = list(ds.dataset.data_vars.keys())[:lvaris]\n",
    "    dsi = ds[varis]\n",
    "else:\n",
    "    dsi = ds    \n",
    "print(f\"# of variables = {len(dsi.dataset.data_vars.keys())}\")"
   ]
  },
  {
   "cell_type": "markdown",
   "id": "a597a72f",
   "metadata": {},
   "source": [
    "### Select scenarios data\n",
    "Load an IAMC scenarios dataset (done previously at the beginning).  \n",
    "Decide whether using global mean temperature or CO2 mode.  \n",
    "Assign SSPs if missing and fix duplicate temperatures. "
   ]
  },
  {
   "cell_type": "code",
   "execution_count": 60,
   "id": "e3551368",
   "metadata": {},
   "outputs": [
    {
     "data": {
      "text/plain": [
       "<class 'pyam.core.IamDataFrame'>\n",
       "Index:\n",
       " * model    : COFFEE 1.1, GCAM 5.3, IMAGE 3.0, IMAGE 3.0.1, ... WITCH 5.0 (6)\n",
       " * scenario : CO_Bridge, EN_INDCi2030_3000f, ... SusDev_SDP-PkBudg1000 (9)\n",
       "Timeseries data coordinates:\n",
       "   region   : World (1)\n",
       "   variable : ... (1)\n",
       "   unit     : K (1)\n",
       "   year     : 2015, 2016, 2017, 2018, 2019, 2020, 2021, 2022, ... 2100 (86)\n",
       "Meta indicators:\n",
       "   Category (object) C3, C7, C6, C8, C1 (5)\n",
       "   Category_name (object) C3: limit warming to 2°C (>67%), ... (5)\n",
       "   Category_subset (object) C3x_NZGHGs, C7, C6, C8, C1a_NZGHGs (5)\n",
       "   Subset_Ch4 (object) Limit to 2C (>67%) immediate 2020 action, ... (3)\n",
       "   Category_Vetting_historical (object) C3, C7, C6, C8, C1 (5)\n",
       "   ..."
      ]
     },
     "execution_count": 60,
     "metadata": {},
     "output_type": "execute_result"
    }
   ],
   "source": [
    "# Choose size of scenario set, comment out as appropriate.\n",
    "\n",
    "# 1. Computational test - lots of scenarios (~1200)\n",
    "# dfp = df_scens_in.filter(variable=temp_variable)\n",
    "# dfp = dfp.filter(year=years)\n",
    "# dfp = GMTPathway(dfp, temperature_variable=temp_variable)\n",
    "\n",
    "\n",
    "# 2. For testing on C1 scenarios (97)\n",
    "# few_scenarios = True\n",
    "# very_few_scenarios = False\n",
    "\n",
    "# if few_scenarios:\n",
    "#     dfp = dfp.df.filter(Category=[\"C1*\"])\n",
    "#     if very_few_scenarios:\n",
    "#         dfp = dfp.df.filter(model=\"REMIND 2.1*\", scenario=\"*\")\n",
    "\n",
    "# 3. Use the small set as loaded at the start\n",
    "dfp = ssps_imp\n",
    "\n",
    "dfp"
   ]
  },
  {
   "cell_type": "code",
   "execution_count": 61,
   "id": "ebe93e79-94ce-4127-9ef6-5aa1f789766f",
   "metadata": {},
   "outputs": [],
   "source": [
    "# pre-prepare the dataset into correct format - IAMC wide timeseries format\n",
    "\n",
    "dft = dfp.df.timeseries()\n",
    "dft = dft.join(dfp.meta[\"Ssp_family\"]).reset_index()\n",
    "# dft = dft.apply(fix_duplicate_temps, years=years, axis=1)"
   ]
  },
  {
   "cell_type": "markdown",
   "id": "9fad6daf",
   "metadata": {},
   "source": [
    "### START PROCESSING "
   ]
  },
  {
   "cell_type": "code",
   "execution_count": 64,
   "id": "d4d94aa4",
   "metadata": {},
   "outputs": [
    {
     "name": "stderr",
     "output_type": "stream",
     "text": [
      "/home/byers/rime/rime/rime_functions.py:159: FutureWarning: The behavior of DataFrame concatenation with empty or all-NA entries is deprecated. In a future version, this will no longer exclude empty or all-NA columns when determining the result dtypes. To retain the old behavior, exclude the relevant entries before the concat operation.\n",
      "  idf = pd.concat([idf, edf]).reset_index(drop=True)\n",
      "/home/byers/rime/rime/rime_functions.py:159: FutureWarning: The behavior of DataFrame concatenation with empty or all-NA entries is deprecated. In a future version, this will no longer exclude empty or all-NA columns when determining the result dtypes. To retain the old behavior, exclude the relevant entries before the concat operation.\n",
      "  idf = pd.concat([idf, edf]).reset_index(drop=True)\n",
      "/home/byers/rime/rime/rime_functions.py:159: FutureWarning: The behavior of DataFrame concatenation with empty or all-NA entries is deprecated. In a future version, this will no longer exclude empty or all-NA columns when determining the result dtypes. To retain the old behavior, exclude the relevant entries before the concat operation.\n",
      "  idf = pd.concat([idf, edf]).reset_index(drop=True)\n",
      "/home/byers/rime/rime/rime_functions.py:159: FutureWarning: The behavior of DataFrame concatenation with empty or all-NA entries is deprecated. In a future version, this will no longer exclude empty or all-NA columns when determining the result dtypes. To retain the old behavior, exclude the relevant entries before the concat operation.\n",
      "  idf = pd.concat([idf, edf]).reset_index(drop=True)\n",
      "/home/byers/rime/rime/rime_functions.py:159: FutureWarning: The behavior of DataFrame concatenation with empty or all-NA entries is deprecated. In a future version, this will no longer exclude empty or all-NA columns when determining the result dtypes. To retain the old behavior, exclude the relevant entries before the concat operation.\n",
      "  idf = pd.concat([idf, edf]).reset_index(drop=True)\n",
      "/home/byers/rime/rime/rime_functions.py:159: FutureWarning: The behavior of DataFrame concatenation with empty or all-NA entries is deprecated. In a future version, this will no longer exclude empty or all-NA columns when determining the result dtypes. To retain the old behavior, exclude the relevant entries before the concat operation.\n",
      "  idf = pd.concat([idf, edf]).reset_index(drop=True)\n",
      "/home/byers/rime/rime/rime_functions.py:159: FutureWarning: The behavior of DataFrame concatenation with empty or all-NA entries is deprecated. In a future version, this will no longer exclude empty or all-NA columns when determining the result dtypes. To retain the old behavior, exclude the relevant entries before the concat operation.\n",
      "  idf = pd.concat([idf, edf]).reset_index(drop=True)\n",
      "/home/byers/rime/rime/rime_functions.py:159: FutureWarning: The behavior of DataFrame concatenation with empty or all-NA entries is deprecated. In a future version, this will no longer exclude empty or all-NA columns when determining the result dtypes. To retain the old behavior, exclude the relevant entries before the concat operation.\n",
      "  idf = pd.concat([idf, edf]).reset_index(drop=True)\n",
      "/home/byers/rime/rime/rime_functions.py:159: FutureWarning: The behavior of DataFrame concatenation with empty or all-NA entries is deprecated. In a future version, this will no longer exclude empty or all-NA columns when determining the result dtypes. To retain the old behavior, exclude the relevant entries before the concat operation.\n",
      "  idf = pd.concat([idf, edf]).reset_index(drop=True)\n"
     ]
    },
    {
     "name": "stdout",
     "output_type": "stream",
     "text": [
      " Done:  6.4104859828948975\n",
      " Saved: COUNTRIES yrs=5\n",
      "  6.4106457233428955\n",
      "42 variables, 9 scenarios\n"
     ]
    }
   ],
   "source": [
    "start = time.time()\n",
    "year_res = 5\n",
    "parallel = True\n",
    "if parallel:\n",
    "    \"\"\"\n",
    "    For parallel processing, convert dft as a wide IAMC pd.Dataframe\n",
    "    into a dask.DataFrame.\n",
    "    \"\"\"\n",
    "    ddf = dd.from_pandas(dft, npartitions=1000)\n",
    "\n",
    "    # dfx = dft.iloc[0].squeeze()  # FOR DEBUIGGING THE FUNCTION\n",
    "    outd = ddf.apply(\n",
    "        table_impacts_gwl,\n",
    "        dsi=dsi,\n",
    "        ssp_meta_col=\"Ssp_family\",\n",
    "        axis=1,\n",
    "        meta=(\"result\", None),\n",
    "    )\n",
    "\n",
    "    with ProgressBar():\n",
    "        # try:\n",
    "        df_new = outd.compute(num_workers=num_workers)\n",
    "else:\n",
    "    df_new = dft.apply(table_impacts_gwl, dsi=dsi, axis=1)\n",
    "\n",
    "expandeddGWL = pd.concat([df_new[x] for x in df_new.index])\n",
    "print(f\" Done:  {time.time()-start}\")\n",
    "\n",
    "filename = f\"RIME_output_{region}_{year_res}yr.csv\"\n",
    "\n",
    "# expandedd.to_csv(filename, encoding=\"utf-8\", index=False)\n",
    "print(f\" Saved: {region} yrs={year_res}\\n  {time.time()-start}\")\n",
    "print(f\"{len(dsi.dataset.data_vars)} variables, {len(dfp.meta)} scenarios\")"
   ]
  },
  {
   "cell_type": "markdown",
   "id": "86b7950f",
   "metadata": {},
   "source": [
    "To see the Dask dasboard, open http://localhost:8787/status in your browser"
   ]
  },
  {
   "cell_type": "code",
   "execution_count": 65,
   "id": "d1cc8871",
   "metadata": {},
   "outputs": [
    {
     "name": "stderr",
     "output_type": "stream",
     "text": [
      "/home/byers/venvs/rimeclasses/lib/python3.10/site-packages/pyam/utils.py:347: FutureWarning: The previous implementation of stack is deprecated and will be removed in a future version of pandas. See the What's New notes for pandas 2.1.0 for details. Specify future_stack=True to adopt the new implementation and silence this warning.\n",
      "  df.set_index(index + REQUIRED_COLS + extra_cols)\n",
      "/home/byers/venvs/rimeclasses/lib/python3.10/site-packages/pyam/core.py:2691: FutureWarning: unique with argument that is not not a Series, Index, ExtensionArray, or np.ndarray is deprecated and will raise in a future version.\n",
      "  index = pd.unique(index)\n"
     ]
    }
   ],
   "source": [
    "expandeddGWL = pyam.IamDataFrame(expandeddGWL)"
   ]
  },
  {
   "cell_type": "code",
   "execution_count": 72,
   "id": "4d08042a",
   "metadata": {},
   "outputs": [
    {
     "data": {
      "text/plain": [
       "['RIME|cdd|Exposure|Land area',\n",
       " 'RIME|cdd|Exposure|Land area|%',\n",
       " 'RIME|cdd|Exposure|Land area|High',\n",
       " 'RIME|cdd|Exposure|Land area|High|%',\n",
       " 'RIME|cdd|Exposure|Land area|Low',\n",
       " 'RIME|cdd|Exposure|Land area|Low|%',\n",
       " 'RIME|cdd|Exposure|Population',\n",
       " 'RIME|cdd|Exposure|Population|%',\n",
       " 'RIME|cdd|Exposure|Population|High',\n",
       " 'RIME|cdd|Exposure|Population|High|%',\n",
       " 'RIME|cdd|Exposure|Population|Low',\n",
       " 'RIME|cdd|Exposure|Population|Low|%',\n",
       " 'RIME|cdd|Hazard|Absolute',\n",
       " 'RIME|cdd|Hazard|Absolute|Land area weighted',\n",
       " 'RIME|cdd|Hazard|Absolute|Population weighted',\n",
       " 'RIME|cdd|Hazard|Difference',\n",
       " 'RIME|cdd|Hazard|Difference|Land area weighted',\n",
       " 'RIME|cdd|Hazard|Difference|Population weighted',\n",
       " 'RIME|cdd|Hazard|Risk score',\n",
       " 'RIME|cdd|Hazard|Risk score|Land area weighted',\n",
       " 'RIME|cdd|Hazard|Risk score|Population weighted',\n",
       " 'RIME|pr_r10|Exposure|Land area',\n",
       " 'RIME|pr_r10|Exposure|Land area|%',\n",
       " 'RIME|pr_r10|Exposure|Land area|High',\n",
       " 'RIME|pr_r10|Exposure|Land area|High|%',\n",
       " 'RIME|pr_r10|Exposure|Land area|Low',\n",
       " 'RIME|pr_r10|Exposure|Land area|Low|%',\n",
       " 'RIME|pr_r10|Exposure|Population',\n",
       " 'RIME|pr_r10|Exposure|Population|%',\n",
       " 'RIME|pr_r10|Exposure|Population|High',\n",
       " 'RIME|pr_r10|Exposure|Population|High|%',\n",
       " 'RIME|pr_r10|Exposure|Population|Low',\n",
       " 'RIME|pr_r10|Exposure|Population|Low|%',\n",
       " 'RIME|pr_r10|Hazard|Absolute',\n",
       " 'RIME|pr_r10|Hazard|Absolute|Land area weighted',\n",
       " 'RIME|pr_r10|Hazard|Absolute|Population weighted',\n",
       " 'RIME|pr_r10|Hazard|Difference',\n",
       " 'RIME|pr_r10|Hazard|Difference|Land area weighted',\n",
       " 'RIME|pr_r10|Hazard|Difference|Population weighted',\n",
       " 'RIME|pr_r10|Hazard|Risk score',\n",
       " 'RIME|pr_r10|Hazard|Risk score|Land area weighted',\n",
       " 'RIME|pr_r10|Hazard|Risk score|Population weighted']"
      ]
     },
     "execution_count": 72,
     "metadata": {},
     "output_type": "execute_result"
    }
   ],
   "source": [
    "expandeddGWL.variable"
   ]
  },
  {
   "cell_type": "code",
   "execution_count": 73,
   "id": "0457fa1e-09db-4557-83e5-7f4e13064d84",
   "metadata": {},
   "outputs": [
    {
     "name": "stderr",
     "output_type": "stream",
     "text": [
      "/home/byers/venvs/rimeclasses/lib/python3.10/site-packages/pyam/core.py:2691: FutureWarning: unique with argument that is not not a Series, Index, ExtensionArray, or np.ndarray is deprecated and will raise in a future version.\n",
      "  index = pd.unique(index)\n"
     ]
    },
    {
     "data": {
      "text/plain": [
       "<Axes: title={'center': 'region: Countries of South Asia; primarily India - variable: RIME|pr_r10|Exposure|Population|%'}, xlabel='Year', ylabel='%'>"
      ]
     },
     "execution_count": 73,
     "metadata": {},
     "output_type": "execute_result"
    },
    {
     "data": {
      "image/png": "[encoded data removed]",
      "text/plain": [
       "<Figure size 640x480 with 1 Axes>"
      ]
     },
     "metadata": {},
     "output_type": "display_data"
    }
   ],
   "source": [
    "# model = \"IMAG*\"\n",
    "scenario = [\n",
    "    \"CO_Bridge\",\n",
    "    \"EN_INDCi2030_3000f\",\n",
    "    \"EN_NPi2020_400f_lowBECCS\",\n",
    "    # 'NGFS2_Current Policies',\n",
    "    \"SSP1-26\",\n",
    "    \"SSP2-45\",\n",
    "    # 'SSP3-Baseline',\n",
    "    # 'SSP5-Baseline',\n",
    "    \"SusDev_SDP-PkBudg1000\",\n",
    "]\n",
    "variable = \"RIME|cdd|Hazard|Risk score|Population weighted\"\n",
    "# variable = 'RIME|wsi|Exposure|Population|%'\n",
    "variable = \"RIME|pr_r10|Exposure|Population|%\"\n",
    "expandeddGWL.filter(variable=variable, scenario=scenario, region=\"Countries of South Asia; primarily India\").plot()"
   ]
  },
  {
   "cell_type": "markdown",
   "id": "d7a88cf3-0636-4965-8d3c-59041766d70c",
   "metadata": {},
   "source": [
    "### Make SSP & IMP plots for presentation"
   ]
  },
  {
   "cell_type": "code",
   "execution_count": 74,
   "id": "d8f60f4b-7154-44fe-92b8-49f0027e2e81",
   "metadata": {},
   "outputs": [
    {
     "data": {
      "text/plain": [
       "['EN_NPi2020_400f_lowBECCS',\n",
       " 'NGFS2_Current Policies',\n",
       " 'EN_INDCi2030_3000f',\n",
       " 'SusDev_SDP-PkBudg1000',\n",
       " 'CO_Bridge']"
      ]
     },
     "execution_count": 74,
     "metadata": {},
     "output_type": "execute_result"
    }
   ],
   "source": [
    "imps.scenario"
   ]
  },
  {
   "cell_type": "code",
   "execution_count": 76,
   "id": "151e35c4-6772-4b6c-bf27-f728e5b9d9f1",
   "metadata": {},
   "outputs": [
    {
     "name": "stderr",
     "output_type": "stream",
     "text": [
      "/home/byers/venvs/rimeclasses/lib/python3.10/site-packages/pyam/core.py:2691: FutureWarning: unique with argument that is not not a Series, Index, ExtensionArray, or np.ndarray is deprecated and will raise in a future version.\n",
      "  index = pd.unique(index)\n"
     ]
    },
    {
     "data": {
      "text/plain": [
       "<Axes: xlabel='Year', ylabel='K'>"
      ]
     },
     "execution_count": 76,
     "metadata": {},
     "output_type": "execute_result"
    },
    {
     "data": {
      "image/png": "[encoded data removed]",
      "text/plain": [
       "<Figure size 640x480 with 1 Axes>"
      ]
     },
     "metadata": {},
     "output_type": "display_data"
    }
   ],
   "source": [
    "color_map = {\n",
    "    \"SSP1-26\": \"AR6-SSP1-2.6\",\n",
    "    \"SSP2-45\": \"AR6-SSP2-4.5\",\n",
    "    \"SSP3-Baseline\": \"AR6-SSP3-7.0\",\n",
    "    \"SSP5-Baseline\": \"AR6-SSP5-8.5\",\n",
    "    \"NGFS2_Current Policies\": \"AR6-IP-CurPol\",\n",
    "    # 'EN_NPi2020_900f': 'AR6-IMP-Neg2.0',\n",
    "    \"EN_INDCi2030_3000f\": \"AR6-IP-ModAct\",\n",
    "    # 'SSP2_openres_lc_50': 'AR6-IMP-Ren2.0',\n",
    "    # AR6-IMP-GS',\n",
    "    \"CO_Bridge\": \"AR6-IMP-GS\",\n",
    "    \"EN_NPi2020_400f_lowBECCS\": \"AR6-IMP-Neg\",\n",
    "    \"SusDev_SDP-PkBudg1000\": \"AR6-IMP-SP\",\n",
    "}\n",
    "\n",
    "pyam.run_control().update({\"color\": {\"scenario\": color_map}})\n",
    "\n",
    "ssps_imp.df.filter(\n",
    "    variable=\"AR6 climate diagnostics|Surface Temperature (GSAT)|MAGICCv7.5.3|50.0th Percentile\",\n",
    "    scenario=\"SSP*\",\n",
    ").plot(legend=False, fill_between=True, color=\"scenario\", title=\"\")"
   ]
  },
  {
   "cell_type": "code",
   "execution_count": 77,
   "id": "6bcea971-06e9-426c-8aca-71fc96d27e13",
   "metadata": {},
   "outputs": [
    {
     "name": "stderr",
     "output_type": "stream",
     "text": [
      "/home/byers/venvs/rimeclasses/lib/python3.10/site-packages/pyam/core.py:2691: FutureWarning: unique with argument that is not not a Series, Index, ExtensionArray, or np.ndarray is deprecated and will raise in a future version.\n",
      "  index = pd.unique(index)\n"
     ]
    },
    {
     "data": {
      "text/plain": [
       "<Axes: xlabel='Year', ylabel='K'>"
      ]
     },
     "execution_count": 77,
     "metadata": {},
     "output_type": "execute_result"
    },
    {
     "data": {
      "image/png": "[encoded data removed]",
      "text/plain": [
       "<Figure size 640x480 with 1 Axes>"
      ]
     },
     "metadata": {},
     "output_type": "display_data"
    }
   ],
   "source": [
    "ssps_imp.df.filter(\n",
    "    variable=\"AR6 climate diagnostics|Surface Temperature (GSAT)|MAGICCv7.5.3|50.0th Percentile\"\n",
    ").plot(legend=False, fill_between=True, color=\"scenario\", title=\"\")"
   ]
  },
  {
   "cell_type": "code",
   "execution_count": null,
   "id": "5a5be442-2319-4ecb-aba0-d620d98906d7",
   "metadata": {},
   "outputs": [],
   "source": []
  }
 ],
 "metadata": {
  "kernelspec": {
   "display_name": "Python 3 (ipykernel)",
   "language": "python",
   "name": "python3"
  },
  "language_info": {
   "codemirror_mode": {
    "name": "ipython",
    "version": 3
   },
   "file_extension": ".py",
   "mimetype": "text/x-python",
   "name": "python",
   "nbconvert_exporter": "python",
   "pygments_lexer": "ipython3",
   "version": "3.10.12"
  }
 },
 "nbformat": 4,
 "nbformat_minor": 5
}
