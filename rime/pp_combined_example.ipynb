{
 "cells": [
  {
   "cell_type": "markdown",
   "id": "75068288",
   "metadata": {},
   "source": [
    "# Processing workflow example"
   ]
  },
  {
   "cell_type": "code",
   "execution_count": 7,
   "id": "553e322c",
   "metadata": {},
   "outputs": [],
   "source": [
    "%load_ext autoreload\n",
    "%autoreload 2\n",
    "\n",
    "import rime\n",
    "from rime.process_config import *\n",
    "from rime.rime_functions import *\n",
    "from rime.utils import *\n",
    "from rime.core import GWLPathway\n",
    "\n",
    "import dask\n",
    "import dask.dataframe as dd\n",
    "# from dask.diagnostics import ProgressBar\n",
    "from dask.diagnostics import Profiler, ResourceProfiler, CacheProfiler, ProgressBar\n",
    "from dask.distributed import Client\n",
    "\n",
    "# from dask.distributed import Client # uncomment this to open Dask client to see performance\n",
    "import glob\n",
    "import numpy as np\n",
    "import pandas as pd\n",
    "import pyam\n",
    "import re\n",
    "import time\n",
    "import xarray as xr\n",
    "import yaml"
   ]
  },
  {
   "cell_type": "code",
   "execution_count": 8,
   "id": "9f7bd8af",
   "metadata": {},
   "outputs": [],
   "source": [
    "\n",
    "# Load a yaml file that will help select multiple climate indicator files (not necessarily needed)\n",
    "with open(\"indicator_params.yml\", \"r\") as f:\n",
    "    params = yaml.full_load(f)"
   ]
  },
  {
   "cell_type": "code",
   "execution_count": 9,
   "id": "0da81a1a",
   "metadata": {},
   "outputs": [
    {
     "data": {
      "text/plain": [
       "<dask.config.set at 0x7f1a4318f400>"
      ]
     },
     "execution_count": 9,
     "metadata": {},
     "output_type": "execute_result"
    }
   ],
   "source": [
    "dask.config.set(scheduler=\"processes\")\n",
    "dask.config.set(num_workers=num_workers)\n",
    "# client = Client()  # uncomment this to open Dask client"
   ]
  },
  {
   "cell_type": "markdown",
   "id": "7c0318d1",
   "metadata": {},
   "source": [
    "To see the Dask dasboard, open http://localhost:8787/status in your browser"
   ]
  },
  {
   "cell_type": "markdown",
   "id": "f17db9b7",
   "metadata": {},
   "source": [
    "### Import scenarios data\n",
    "\n",
    "Load an IAMC scenarios dataset.  \n",
    "Decide whether using global mean temperature or CO2 mode.  \n",
    "Assign SSPs if missing and fix duplicate temperatures.  "
   ]
  },
  {
   "cell_type": "code",
   "execution_count": 37,
   "id": "419e7b24-f2a3-4c49-93c4-a7ad8488f030",
   "metadata": {},
   "outputs": [
    {
     "name": "stderr",
     "output_type": "stream",
     "text": [
      "pyam.core - INFO: Reading file emissions_temp_AR6_small.xlsx\n",
      "/home/byers/venvs/rimeclasses/lib/python3.10/site-packages/pyam/core.py:2692: FutureWarning: unique with argument that is not not a Series, Index, ExtensionArray, or np.ndarray is deprecated and will raise in a future version.\n",
      "  index = pd.unique(index)\n",
      "pyam.core - INFO: Reading meta indicators\n"
     ]
    },
    {
     "data": {
      "text/plain": [
       "3"
      ]
     },
     "execution_count": 37,
     "metadata": {},
     "output_type": "execute_result"
    }
   ],
   "source": [
    "ab = pyam.IamDataFrame(fname_input_scenarios)\n",
    "len(ab.variable)"
   ]
  },
  {
   "cell_type": "code",
   "execution_count": 72,
   "id": "74ae8c83-883b-4b4c-b824-7a3c500d7a7c",
   "metadata": {},
   "outputs": [
    {
     "name": "stderr",
     "output_type": "stream",
     "text": [
      "pyam.core - INFO: Reading file emissions_temp_AR6_small.xlsx\n",
      "/home/byers/venvs/rimeclasses/lib/python3.10/site-packages/pyam/core.py:2692: FutureWarning: unique with argument that is not not a Series, Index, ExtensionArray, or np.ndarray is deprecated and will raise in a future version.\n",
      "  index = pd.unique(index)\n",
      "pyam.core - INFO: Reading meta indicators\n",
      "/home/byers/venvs/rimeclasses/lib/python3.10/site-packages/pyam/core.py:2692: FutureWarning: unique with argument that is not not a Series, Index, ExtensionArray, or np.ndarray is deprecated and will raise in a future version.\n",
      "  index = pd.unique(index)\n"
     ]
    },
    {
     "name": "stdout",
     "output_type": "stream",
     "text": [
      "['AR6 climate diagnostics|Surface Temperature (GSAT)|MAGICCv7.5.3|50.0th Percentile']\n",
      "Temperature_variable(s) provided: ['AR6 climate diagnostics|Surface Temperature (GSAT)|MAGICCv7.5.3|50.0th Percentile']\n"
     ]
    },
    {
     "name": "stderr",
     "output_type": "stream",
     "text": [
      "/home/byers/venvs/rimeclasses/lib/python3.10/site-packages/pyam/core.py:2692: FutureWarning: unique with argument that is not not a Series, Index, ExtensionArray, or np.ndarray is deprecated and will raise in a future version.\n",
      "  index = pd.unique(index)\n"
     ]
    }
   ],
   "source": [
    "df = GWLPathway(fname_input_scenarios, temperature_variable=['AR6 climate diagnostics|Surface Temperature (GSAT)|MAGICCv7.5.3|50.0th Percentile'] )"
   ]
  },
  {
   "cell_type": "code",
   "execution_count": 23,
   "id": "4b0e602b",
   "metadata": {},
   "outputs": [
    {
     "name": "stderr",
     "output_type": "stream",
     "text": [
      "pyam.core - INFO: Reading file emissions_temp_AR6_small.xlsx\n",
      "/home/byers/venvs/rimeclasses/lib/python3.10/site-packages/pyam/core.py:2692: FutureWarning: unique with argument that is not not a Series, Index, ExtensionArray, or np.ndarray is deprecated and will raise in a future version.\n",
      "  index = pd.unique(index)\n",
      "pyam.core - INFO: Reading meta indicators\n"
     ]
    }
   ],
   "source": [
    "df_scens_in = pyam.IamDataFrame(fname_input_scenarios)\n",
    "# dft = df_scens_in.filter(variable=?temp_variable)\n",
    "\n",
    "# Replace & fill missing SSP scenario allocation\n",
    "# dft = ssp_helper(dft, ssp_meta_col=\"Ssp_family\", default_ssp=\"SSP2\")"
   ]
  },
  {
   "cell_type": "markdown",
   "id": "cfa7b099-a70c-4d72-953a-4467e8e8ffcc",
   "metadata": {},
   "source": [
    "### Build a dataset to compare SSPs and IMPs"
   ]
  },
  {
   "cell_type": "code",
   "execution_count": null,
   "id": "0f6cae87-9717-4304-b841-5d61e87b55d3",
   "metadata": {},
   "outputs": [],
   "source": [
    "scenarios = [\"SSP1-26\", \"SSP2-45\", \"SSP3-Baseline\", \"SSP5-Baseline\"]\n",
    "variable = (\n",
    "    \"AR6 climate diagnostics|Surface Temperature (GSAT)|MAGICCv7.5.3|50.0th Percentile\"\n",
    ")\n",
    "ssps = df_scens_in.filter(scenario=scenarios, model=\"IMAGE*\", variable=variable)\n",
    "imps = df_scens_in.filter(\n",
    "    IMP_marker=[\"CurPol\", \"ModAct\", \"SP\", \"GS\", \"Neg\"], variable=variable\n",
    ")  # ,'Ren-2.0','Neg-2.0'\n",
    "ssps_imp = ssps.append(imps)\n",
    "ssps_imp = ssp_helper(ssps_imp, ssp_meta_col=\"Ssp_family\", default_ssp=\"SSP2\")\n",
    "ssps_imp"
   ]
  },
  {
   "cell_type": "markdown",
   "id": "f6c1301d",
   "metadata": {},
   "source": [
    "# Generate some maps"
   ]
  },
  {
   "cell_type": "markdown",
   "id": "04aec0eb",
   "metadata": {},
   "source": [
    "## Example 1: multiple IAM scenarios, 1 climate indicator"
   ]
  },
  {
   "cell_type": "code",
   "execution_count": null,
   "id": "256391d3-798f-4c63-b5b8-0f3b2e1da325",
   "metadata": {},
   "outputs": [],
   "source": [
    "# Requires some configuration - need to download the data from https://zenodo.org/records/10212339, and set the file paths in the file process_config.py"
   ]
  },
  {
   "cell_type": "code",
   "execution_count": null,
   "id": "f4c31c82",
   "metadata": {},
   "outputs": [],
   "source": [
    "# Doesn't work -0\n",
    "# ValueError: 'threshold' is not present in all datasets.\n",
    "\n",
    "print(\"Test multiple IAM scenarios, 1 indicator\")\n",
    "start = time.time()\n",
    "\n",
    "ind = \"precip\"\n",
    "var = \"sdii\"\n",
    "short = \"sdii\"  # params[\"indicators\"][ind][var][\"short_name\"]\n",
    "ssp = \"ssp2\"\n",
    "\n",
    "\n",
    "files = glob.glob(f\"{impact_data_dir}\\\\{ind}\\\\*{short}_{ssp}*{ftype}.nc4\")\n",
    "mapdata = xr.open_mfdataset(\n",
    "    files, preprocess=remove_ssp_from_ds, combine=\"nested\", concat_dim=\"gmt\"\n",
    ")\n",
    "\n",
    "mapdata = tidy_mapdata(mapdata)\n",
    "\n",
    "map_out_MS = map_transform_gmt_wrapper(\n",
    "    ssps_imp,\n",
    "    mapdata,\n",
    "    years,\n",
    "    use_dask=True,\n",
    "    gmt_name=\"gmt\",\n",
    "    temp_min=1.2,\n",
    "    temp_max=3.5,\n",
    "    drawdown_max=0.15,\n",
    "    interpolation=interpolation,\n",
    ")\n",
    "\n",
    "comp = dict(zlib=True, complevel=5)\n",
    "encoding = {var: comp for var in map_out_MS.data_vars}\n",
    "filename = f\"{output_folder_maps}scenario_maps_multiscenario_{ftype}_test_notebook.nc\"\n",
    "map_out_MS.to_netcdf(filename, encoding=encoding)\n",
    "\n",
    "print(\"FINISHED Test multiple scenarios, 1 indicator\")\n",
    "print(f\"{time.time()-start}\")"
   ]
  },
  {
   "cell_type": "code",
   "execution_count": null,
   "id": "d596a52f-3304-4cbb-b0cb-c86e83e39ecf",
   "metadata": {},
   "outputs": [],
   "source": [
    "mapdata"
   ]
  },
  {
   "cell_type": "code",
   "execution_count": null,
   "id": "794bd1c3",
   "metadata": {},
   "outputs": [],
   "source": [
    "map_out_MS"
   ]
  },
  {
   "cell_type": "markdown",
   "id": "f31bf98d",
   "metadata": {},
   "source": [
    "## Example 2: 1 scenario, multiple indicators\n"
   ]
  },
  {
   "cell_type": "markdown",
   "id": "07f26175",
   "metadata": {},
   "source": [
    "### Build combined dataset with multiple indicators"
   ]
  },
  {
   "cell_type": "code",
   "execution_count": null,
   "id": "85bab5fb",
   "metadata": {},
   "outputs": [],
   "source": [
    "# Doesn't work -0\n",
    "# AttributeError: 'DataArray' object has no attribute 'rename_vars'\n",
    "# lines 230-233 in map_transform_gmt\n",
    "\n",
    "gmt_name = \"gmt\"\n",
    "print(\"Test 1 scenario, multiple indicators\")\n",
    "start = time.time()\n",
    "ssp = \"ssp2\"\n",
    "mapdata = xr.Dataset()\n",
    "indicators = [\n",
    "    \"cdd\",\n",
    "    \"precip\",\n",
    "    \"dri\",\n",
    "    # \"dri_qtot\",\n",
    "    # \"ia_var\",\n",
    "    # \"ia_var_qtot\",\n",
    "    \"sdd_18p3\",\n",
    "    \"sdd_24p0\",\n",
    "    \"seas\",\n",
    "    \"wsi\",\n",
    "]  #'heatwave']\n",
    "\n",
    "for ind in indicators:\n",
    "    for var in params[\"indicators\"][ind]:\n",
    "        short = params[\"indicators\"][ind][var][\"short_name\"]\n",
    "        print(short)\n",
    "        files = glob.glob(\n",
    "            os.path.join(impact_data_dir, ind, f\"*{short}_{ssp}*{ftype}.nc4\")\n",
    "        )\n",
    "        mapdata[short] = xr.open_mfdataset(\n",
    "            files, preprocess=remove_ssp_from_ds, combine=\"nested\", concat_dim=\"gmt\"\n",
    "        )[short]\n",
    "\n",
    "mapdata = tidy_mapdata(mapdata)"
   ]
  },
  {
   "cell_type": "markdown",
   "id": "cc24e437",
   "metadata": {},
   "source": [
    "### Run transformation (12 impact indicators) (faster with dask=False)"
   ]
  },
  {
   "cell_type": "code",
   "execution_count": null,
   "id": "bd26a126",
   "metadata": {},
   "outputs": [],
   "source": [
    "map_out_MI = map_transform_gmt_wrapper(\n",
    "    ssps_imp.filter(IMP_marker=\"CurPol\"),\n",
    "    mapdata,\n",
    "    years,\n",
    "    use_dask=False,\n",
    "    gmt_name=\"gmt\",\n",
    ")\n",
    "\n",
    "comp = dict(zlib=True, complevel=5)\n",
    "encoding = {var: comp for var in map_out_MI.data_vars}\n",
    "filename = f\"{output_folder_maps}scenario_maps_multiindicator_{ftype}_test_notebook.nc\"\n",
    "# map_out_MI.to_netcdf(filename, encoding=encoding)\n",
    "\n",
    "print(\"FINISHED 1 scenario, multiple indicators\")\n",
    "print(f\"{time.time()-start}\")"
   ]
  },
  {
   "cell_type": "markdown",
   "id": "8c7c007c",
   "metadata": {},
   "source": [
    "### Data is now transformed to 5 year interval starting 2015"
   ]
  },
  {
   "cell_type": "code",
   "execution_count": null,
   "id": "169f89a5",
   "metadata": {},
   "outputs": [],
   "source": [
    "map_out_MI"
   ]
  },
  {
   "cell_type": "markdown",
   "id": "b4ff7baa",
   "metadata": {},
   "source": [
    "## Plot dashboard (takes some minutes)"
   ]
  },
  {
   "cell_type": "code",
   "execution_count": null,
   "id": "b407883b",
   "metadata": {},
   "outputs": [],
   "source": [
    "filename = \"test_map_notebook.html\"\n",
    "plot_maps_dashboard(\n",
    "    map_out_MI,\n",
    "    filename=filename,\n",
    "    year=2063,\n",
    "    cmap=\"magma_r\",\n",
    "    shared_axes=True,\n",
    "    clim=None,\n",
    ")\n",
    "os.startfile(filename)"
   ]
  },
  {
   "cell_type": "markdown",
   "id": "53155084",
   "metadata": {},
   "source": [
    "## Process corresponding table data, aggregated by country"
   ]
  },
  {
   "cell_type": "markdown",
   "id": "534c8807",
   "metadata": {},
   "source": [
    "### Import the climate impacts database files\n",
    "Here is an example for sdii - standard precipitation index, and multiple variables, e.g.  \n",
    "Exposure of land area  \n",
    "Exposure of population  \n",
    "Hazard value  \n",
    "...  \n"
   ]
  },
  {
   "cell_type": "code",
   "execution_count": null,
   "id": "a9ee85cf",
   "metadata": {},
   "outputs": [],
   "source": [
    "filesall = glob.glob(fname_input_climate)\n",
    "files = filesall  # [:6]\n",
    "f = files[-0]\n",
    "# load input climate impacts data file\n",
    "ds = xr.open_mfdataset(f)\n",
    "ds = ds.sel(year=years)\n",
    "ds"
   ]
  },
  {
   "cell_type": "code",
   "execution_count": null,
   "id": "d1e3f825",
   "metadata": {},
   "outputs": [],
   "source": [
    "varis = list(ds.data_vars.keys())[:lvaris]\n",
    "dsi = ds[varis]\n",
    "print(f\"# of variables = {len(varis)}\")"
   ]
  },
  {
   "cell_type": "markdown",
   "id": "a597a72f",
   "metadata": {},
   "source": [
    "### Select scenarios data\n",
    "Load an IAMC scenarios dataset (done previously at the beginning).  \n",
    "Decide whether using global mean temperature or CO2 mode.  \n",
    "Assign SSPs if missing and fix duplicate temperatures. "
   ]
  },
  {
   "cell_type": "code",
   "execution_count": null,
   "id": "e3551368",
   "metadata": {},
   "outputs": [],
   "source": [
    "mode = \"GMT\"\n",
    "if mode == \"GMT\":\n",
    "    dfp = df_scens_in.filter(variable=temp_variable)\n",
    "elif mode == \"bypass\":\n",
    "    dfp = prepare_cumulative(df_scens_in, years=years, use_dask=True)\n",
    "    ts = dfp.timeseries().apply(co2togmt_simple)\n",
    "    ts = pyam.IamDataFrame(ts)\n",
    "    ts.rename(\n",
    "        {\n",
    "            \"variable\": {ts.variable[0]: \"RIME|GSAT_tcre\"},\n",
    "            \"unit\": {ts.unit[0]: \"°C\"},\n",
    "        },\n",
    "        inplace=True,\n",
    "    )\n",
    "    # Export data to check error and relationships\n",
    "    # ts.append(dfp).to_csv('c://users//byers//downloads//tcre_gmt_output.csv')\n",
    "    dfp = ts\n",
    "    dfp.meta = df_scens_in.meta.copy()\n",
    "dfp = dfp.filter(year=years)"
   ]
  },
  {
   "cell_type": "code",
   "execution_count": null,
   "id": "7f799e2a",
   "metadata": {},
   "outputs": [],
   "source": [
    "# For testing on C1 scenarios\n",
    "# few_scenarios = True\n",
    "# very_few_scenarios = False\n",
    "\n",
    "# if few_scenarios:\n",
    "#     dfp = dfp.filter(Category=[\"C1*\"])\n",
    "#     if very_few_scenarios:\n",
    "#         dfp = dfp.filter(model=\"REMIND 2.1*\", scenario=\"*\")\n",
    "\n",
    "dfp = ssps_imp"
   ]
  },
  {
   "cell_type": "code",
   "execution_count": null,
   "id": "ebe93e79-94ce-4127-9ef6-5aa1f789766f",
   "metadata": {},
   "outputs": [],
   "source": [
    "# pre-prepare the dataset into correct format\n",
    "#  Assign SSP to meta and select SSP2 in case SSP not present in name\n",
    "dfp = ssp_helper(dfp, ssp_meta_col=\"Ssp_family\", default_ssp=\"SSP2\", keep_meta=False)\n",
    "\n",
    "dft = dfp.timeseries()\n",
    "dft = dft.join(dfp.meta[\"Ssp_family\"]).reset_index()\n",
    "# dft = dft.apply(fix_duplicate_temps, years=years, axis=1)"
   ]
  },
  {
   "cell_type": "markdown",
   "id": "9fad6daf",
   "metadata": {},
   "source": [
    "### START PROCESSING "
   ]
  },
  {
   "cell_type": "code",
   "execution_count": null,
   "id": "d4d94aa4",
   "metadata": {},
   "outputs": [],
   "source": [
    "start = time.time()\n",
    "year_res = 10\n",
    "parallel = True\n",
    "if parallel:\n",
    "    \"\"\"\n",
    "    For parallel processing, convert dft as a wide IAMC pd.Dataframe\n",
    "    into a dask.DataFrame.\n",
    "    \"\"\"\n",
    "    ddf = dd.from_pandas(dft, npartitions=1000)\n",
    "\n",
    "    # dfx = dft.iloc[0].squeeze()  # FOR DEBUIGGING THE FUNCTION\n",
    "    outd = ddf.apply(\n",
    "        table_impacts_gmt,\n",
    "        dsi=dsi,\n",
    "        ssp_meta_col=\"Ssp_family\",\n",
    "        axis=1,\n",
    "        meta=(\"result\", None),\n",
    "    )\n",
    "\n",
    "    with ProgressBar():\n",
    "        # try:\n",
    "        df_new = outd.compute(num_workers=num_workers)\n",
    "else:\n",
    "    df_new = dft.apply(table_impacts_gmt, dsi=dsi, axis=1)\n",
    "\n",
    "expandeddGMT = pd.concat([df_new[x] for x in df_new.index])\n",
    "print(f\" Done:  {time.time()-start}\")\n",
    "\n",
    "filename = f\"RIME_output_{region}_{year_res}yr.csv\"\n",
    "\n",
    "# expandedd.to_csv(filename, encoding=\"utf-8\", index=False)\n",
    "print(f\" Saved: {region} yrs={year_res}\\n  {time.time()-start}\")\n",
    "print(f\"{len(dsi.data_vars)} variables, {len(dfp.meta)} scenarios\")"
   ]
  },
  {
   "cell_type": "markdown",
   "id": "86b7950f",
   "metadata": {},
   "source": [
    "To see the Dask dasboard, open http://localhost:8787/status in your browser"
   ]
  },
  {
   "cell_type": "code",
   "execution_count": null,
   "id": "d1cc8871",
   "metadata": {},
   "outputs": [],
   "source": [
    "expandeddGMT = pyam.IamDataFrame(expandeddGMT)"
   ]
  },
  {
   "cell_type": "code",
   "execution_count": null,
   "id": "4d08042a",
   "metadata": {},
   "outputs": [],
   "source": [
    "expandeddGMT.variable"
   ]
  },
  {
   "cell_type": "code",
   "execution_count": null,
   "id": "0457fa1e-09db-4557-83e5-7f4e13064d84",
   "metadata": {},
   "outputs": [],
   "source": [
    "# model = \"IMAG*\"\n",
    "scenario = [\n",
    "    \"CO_Bridge\",\n",
    "    \"EN_INDCi2030_3000f\",\n",
    "    \"EN_NPi2020_400f_lowBECCS\",\n",
    "    # 'NGFS2_Current Policies',\n",
    "    \"SSP1-26\",\n",
    "    \"SSP2-45\",\n",
    "    # 'SSP3-Baseline',\n",
    "    # 'SSP5-Baseline',\n",
    "    \"SusDev_SDP-PkBudg1000\",\n",
    "]\n",
    "variable = \"RIME|sdii|Hazard|Risk score|Population weighted\"\n",
    "# variable = 'RIME|wsi|Exposure|Population|%'\n",
    "variable = \"RIME|cdd|Exposure|Population|%\"\n",
    "expandeddGMT.filter(variable=variable, scenario=scenario, region=\"GBR\").plot()"
   ]
  },
  {
   "cell_type": "code",
   "execution_count": null,
   "id": "614d21e6-345c-43d5-9e9c-06606ce3a3d2",
   "metadata": {},
   "outputs": [],
   "source": [
    "expandeddGMT.filter(variable=variable, scenario=scenario, region=\"PAK\").plot()"
   ]
  },
  {
   "cell_type": "code",
   "execution_count": null,
   "id": "def35b50-a552-4a79-b481-08bceeca1918",
   "metadata": {},
   "outputs": [],
   "source": [
    "expandeddGMT.variable"
   ]
  },
  {
   "cell_type": "markdown",
   "id": "d7a88cf3-0636-4965-8d3c-59041766d70c",
   "metadata": {},
   "source": [
    "### Make SSP & IMP plots for presentation"
   ]
  },
  {
   "cell_type": "code",
   "execution_count": null,
   "id": "d8f60f4b-7154-44fe-92b8-49f0027e2e81",
   "metadata": {},
   "outputs": [],
   "source": [
    "imps.scenario"
   ]
  },
  {
   "cell_type": "code",
   "execution_count": null,
   "id": "151e35c4-6772-4b6c-bf27-f728e5b9d9f1",
   "metadata": {},
   "outputs": [],
   "source": [
    "color_map = {\n",
    "    \"SSP1-26\": \"AR6-SSP1-2.6\",\n",
    "    \"SSP2-45\": \"AR6-SSP2-4.5\",\n",
    "    \"SSP3-Baseline\": \"AR6-SSP3-7.0\",\n",
    "    \"SSP5-Baseline\": \"AR6-SSP5-8.5\",\n",
    "    \"NGFS2_Current Policies\": \"AR6-IP-CurPol\",\n",
    "    # 'EN_NPi2020_900f': 'AR6-IMP-Neg2.0',\n",
    "    \"EN_INDCi2030_3000f\": \"AR6-IP-ModAct\",\n",
    "    # 'SSP2_openres_lc_50': 'AR6-IMP-Ren2.0',\n",
    "    # AR6-IMP-GS',\n",
    "    \"CO_Bridge\": \"AR6-IMP-GS\",\n",
    "    \"EN_NPi2020_400f_lowBECCS\": \"AR6-IMP-Neg\",\n",
    "    \"SusDev_SDP-PkBudg1000\": \"AR6-IMP-SP\",\n",
    "}\n",
    "\n",
    "pyam.run_control().update({\"color\": {\"scenario\": color_map}})\n",
    "\n",
    "ssps_imp.filter(\n",
    "    variable=\"AR6 climate diagnostics|Surface Temperature (GSAT)|MAGICCv7.5.3|50.0th Percentile\",\n",
    "    scenario=\"SSP*\",\n",
    ").plot(legend=False, fill_between=True, color=\"scenario\", title=\"\")"
   ]
  },
  {
   "cell_type": "code",
   "execution_count": null,
   "id": "6bcea971-06e9-426c-8aca-71fc96d27e13",
   "metadata": {},
   "outputs": [],
   "source": [
    "ssps_imp.filter(\n",
    "    variable=\"AR6 climate diagnostics|Surface Temperature (GSAT)|MAGICCv7.5.3|50.0th Percentile\"\n",
    ").plot(legend=False, fill_between=True, color=\"scenario\", title=\"\")"
   ]
  }
 ],
 "metadata": {
  "kernelspec": {
   "display_name": "Python 3 (ipykernel)",
   "language": "python",
   "name": "python3"
  },
  "language_info": {
   "codemirror_mode": {
    "name": "ipython",
    "version": 3
   },
   "file_extension": ".py",
   "mimetype": "text/x-python",
   "name": "python",
   "nbconvert_exporter": "python",
   "pygments_lexer": "ipython3",
   "version": "3.10.12"
  }
 },
 "nbformat": 4,
 "nbformat_minor": 5
}
