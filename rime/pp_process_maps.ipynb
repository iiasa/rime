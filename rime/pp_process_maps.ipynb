{
 "cells": [
  {
   "cell_type": "markdown",
   "id": "bcfa7457",
   "metadata": {},
   "source": [
    "# Overview\n",
    "\n",
    "**Inputs:**\n",
    " - Emissions or GMT scenarios from IAM.  \n",
    " - Climate impacts maps by Global Warming Level.  \n",
    "\n",
    "**Outputs:**\n",
    " - Maps of climate impacts through time, per scenario.\n",
    "\n",
    "Steps  \n",
    "1. Import climate impacts database. NetCDF 4-d file with different impacts as variables.\n",
    "2. Import the scenarios to be run. Can be global mean temp scenarios or Emissions|CO2 scenarios.\n",
    "3. Preprocessing steps.\n",
    "4. Run.\n"
   ]
  },
  {
   "cell_type": "code",
   "execution_count": 3,
   "id": "1bb1c37e",
   "metadata": {},
   "outputs": [
    {
     "ename": "FileNotFoundError",
     "evalue": "[Errno 2] No such file or directory: 'C:\\\\users\\\\byers\\\\Github\\\\climate_impacts_processing\\\\hotspots.yml'",
     "output_type": "error",
     "traceback": [
      "\u001b[1;31m---------------------------------------------------------------------------\u001b[0m",
      "\u001b[1;31mFileNotFoundError\u001b[0m                         Traceback (most recent call last)",
      "\u001b[1;32m~\\AppData\\Local\\Temp\\ipykernel_25012\\1071857364.py\u001b[0m in \u001b[0;36m<module>\u001b[1;34m\u001b[0m\n\u001b[0;32m     12\u001b[0m \u001b[1;32mfrom\u001b[0m \u001b[0mrime_functions\u001b[0m \u001b[1;32mimport\u001b[0m \u001b[1;33m*\u001b[0m\u001b[1;33m\u001b[0m\u001b[1;33m\u001b[0m\u001b[0m\n\u001b[0;32m     13\u001b[0m \u001b[1;33m\u001b[0m\u001b[0m\n\u001b[1;32m---> 14\u001b[1;33m \u001b[1;32mwith\u001b[0m \u001b[0mopen\u001b[0m\u001b[1;33m(\u001b[0m\u001b[0myaml_path\u001b[0m\u001b[1;33m,\u001b[0m \u001b[1;34m\"r\"\u001b[0m\u001b[1;33m)\u001b[0m \u001b[1;32mas\u001b[0m \u001b[0mf\u001b[0m\u001b[1;33m:\u001b[0m\u001b[1;33m\u001b[0m\u001b[1;33m\u001b[0m\u001b[0m\n\u001b[0m\u001b[0;32m     15\u001b[0m     \u001b[0mparams\u001b[0m \u001b[1;33m=\u001b[0m \u001b[0myaml\u001b[0m\u001b[1;33m.\u001b[0m\u001b[0mfull_load\u001b[0m\u001b[1;33m(\u001b[0m\u001b[0mf\u001b[0m\u001b[1;33m)\u001b[0m\u001b[1;33m\u001b[0m\u001b[1;33m\u001b[0m\u001b[0m\n",
      "\u001b[1;31mFileNotFoundError\u001b[0m: [Errno 2] No such file or directory: 'C:\\\\users\\\\byers\\\\Github\\\\climate_impacts_processing\\\\hotspots.yml'"
     ]
    }
   ],
   "source": [
    "import dask\n",
    "import glob\n",
    "import numpy as np\n",
    "import os\n",
    "import pyam\n",
    "import time\n",
    "import xarray as xr\n",
    "import yaml\n",
    "from dask import delayed\n",
    "from dask.distributed import Client\n",
    "from process_config import *\n",
    "from rime_functions import *\n",
    "\n",
    "with open(yaml_path, \"r\") as f:\n",
    "    params = yaml.full_load(f)"
   ]
  },
  {
   "cell_type": "markdown",
   "id": "5fa045de",
   "metadata": {},
   "source": [
    "### Set up Dask for monitoring Dashboard\n"
   ]
  },
  {
   "cell_type": "code",
   "execution_count": 4,
   "id": "03b6b37a",
   "metadata": {},
   "outputs": [],
   "source": [
    "dask.config.set(scheduler=\"processes\")\n",
    "dask.config.set(num_workers=num_workers)\n",
    "client = Client()\n"
   ]
  },
  {
   "cell_type": "markdown",
   "id": "83dbd273",
   "metadata": {},
   "source": [
    "Open http://localhost:8787/status"
   ]
  },
  {
   "cell_type": "code",
   "execution_count": null,
   "id": "23c76be2",
   "metadata": {},
   "outputs": [],
   "source": [
    "### Import the climate impacts database files\n"
   ]
  },
  {
   "cell_type": "code",
   "execution_count": null,
   "id": "30075129",
   "metadata": {},
   "outputs": [],
   "source": []
  },
  {
   "cell_type": "markdown",
   "id": "58ea5d72",
   "metadata": {},
   "source": [
    "### Import scenarios data\n",
    "\n",
    "Load an IAMC scenarios dataset.  \n",
    "Decide whether using global mean temperature or CO2 mode.  \n",
    "Assign SSPs if missing and fix duplicate temperatures.  \n"
   ]
  },
  {
   "cell_type": "code",
   "execution_count": 6,
   "id": "21ebdadd",
   "metadata": {},
   "outputs": [
    {
     "name": "stderr",
     "output_type": "stream",
     "text": [
      "pyam.core - INFO: Reading file C:\\Users\\byers\\IIASA\\ECE.prog - Documents\\Research Theme - NEXUS\\Hotspots_Explorer_2p0\\rcre_testing\\testing_2\\emissions_temp_AR6_small.xlsx\n",
      "pyam.core - INFO: Reading meta indicators\n",
      "pyam.logging - ERROR: Empty cells in `data` (columns: 'ssp_family'):\n",
      "                       model                          scenario region  \\\n",
      "29240              IMAGE 3.2                     SSP2-baseline  World   \n",
      "29241              IMAGE 3.2                     SSP2-baseline  World   \n",
      "29242              IMAGE 3.2                     SSP2-baseline  World   \n",
      "29243              IMAGE 3.2                     SSP2-baseline  World   \n",
      "29244              IMAGE 3.2                     SSP2-baseline  World   \n",
      "...                      ...                               ...    ...   \n",
      "87543  REMIND-MAgPIE 2.1-4.2  NGFS2_Net-Zero 2050 - IPD-median  World   \n",
      "87544  REMIND-MAgPIE 2.1-4.2  NGFS2_Net-Zero 2050 - IPD-median  World   \n",
      "87545  REMIND-MAgPIE 2.1-4.2  NGFS2_Net-Zero 2050 - IPD-median  World   \n",
      "87546  REMIND-MAgPIE 2.1-4.2  NGFS2_Net-Zero 2050 - IPD-median  World   \n",
      "87547  REMIND-MAgPIE 2.1-4.2  NGFS2_Net-Zero 2050 - IPD-median  World   \n",
      "\n",
      "                                                variable unit  year  value  \\\n",
      "29240  AR6 climate diagnostics|Surface Temperature (G...    K  2015   1.12   \n",
      "29241  AR6 climate diagnostics|Surface Temperature (G...    K  2016   1.13   \n",
      "29242  AR6 climate diagnostics|Surface Temperature (G...    K  2017   1.16   \n",
      "29243  AR6 climate diagnostics|Surface Temperature (G...    K  2018   1.18   \n",
      "29244  AR6 climate diagnostics|Surface Temperature (G...    K  2019   1.20   \n",
      "...                                                  ...  ...   ...    ...   \n",
      "87543  AR6 climate diagnostics|Surface Temperature (G...    K  2096   1.36   \n",
      "87544  AR6 climate diagnostics|Surface Temperature (G...    K  2097   1.36   \n",
      "87545  AR6 climate diagnostics|Surface Temperature (G...    K  2098   1.35   \n",
      "87546  AR6 climate diagnostics|Surface Temperature (G...    K  2099   1.35   \n",
      "87547  AR6 climate diagnostics|Surface Temperature (G...    K  2100   1.35   \n",
      "\n",
      "       ssp_family  \n",
      "29240         NaN  \n",
      "29241         NaN  \n",
      "29242         NaN  \n",
      "29243         NaN  \n",
      "29244         NaN  \n",
      "...           ...  \n",
      "87543         NaN  \n",
      "87544         NaN  \n",
      "87545         NaN  \n",
      "87546         NaN  \n",
      "87547         NaN  \n",
      "\n",
      "[344 rows x 8 columns]\n"
     ]
    },
    {
     "ename": "ValueError",
     "evalue": "Empty cells in `data` (columns: 'ssp_family'):\n                       model                          scenario region  \\\n29240              IMAGE 3.2                     SSP2-baseline  World   \n29241              IMAGE 3.2                     SSP2-baseline  World   \n29242              IMAGE 3.2                     SSP2-baseline  World   \n29243              IMAGE 3.2                     SSP2-baseline  World   \n29244              IMAGE 3.2                     SSP2-baseline  World   \n...                      ...                               ...    ...   \n87543  REMIND-MAgPIE 2.1-4.2  NGFS2_Net-Zero 2050 - IPD-median  World   \n87544  REMIND-MAgPIE 2.1-4.2  NGFS2_Net-Zero 2050 - IPD-median  World   \n87545  REMIND-MAgPIE 2.1-4.2  NGFS2_Net-Zero 2050 - IPD-median  World   \n87546  REMIND-MAgPIE 2.1-4.2  NGFS2_Net-Zero 2050 - IPD-median  World   \n87547  REMIND-MAgPIE 2.1-4.2  NGFS2_Net-Zero 2050 - IPD-median  World   \n\n                                                variable unit  year  value  \\\n29240  AR6 climate diagnostics|Surface Temperature (G...    K  2015   1.12   \n29241  AR6 climate diagnostics|Surface Temperature (G...    K  2016   1.13   \n29242  AR6 climate diagnostics|Surface Temperature (G...    K  2017   1.16   \n29243  AR6 climate diagnostics|Surface Temperature (G...    K  2018   1.18   \n29244  AR6 climate diagnostics|Surface Temperature (G...    K  2019   1.20   \n...                                                  ...  ...   ...    ...   \n87543  AR6 climate diagnostics|Surface Temperature (G...    K  2096   1.36   \n87544  AR6 climate diagnostics|Surface Temperature (G...    K  2097   1.36   \n87545  AR6 climate diagnostics|Surface Temperature (G...    K  2098   1.35   \n87546  AR6 climate diagnostics|Surface Temperature (G...    K  2099   1.35   \n87547  AR6 climate diagnostics|Surface Temperature (G...    K  2100   1.35   \n\n       ssp_family  \n29240         NaN  \n29241         NaN  \n29242         NaN  \n29243         NaN  \n29244         NaN  \n...           ...  \n87543         NaN  \n87544         NaN  \n87545         NaN  \n87546         NaN  \n87547         NaN  \n\n[344 rows x 8 columns]",
     "output_type": "error",
     "traceback": [
      "\u001b[1;31m---------------------------------------------------------------------------\u001b[0m",
      "\u001b[1;31mValueError\u001b[0m                                Traceback (most recent call last)",
      "\u001b[1;32m~\\AppData\\Local\\Temp\\ipykernel_25012\\1101407279.py\u001b[0m in \u001b[0;36m<module>\u001b[1;34m\u001b[0m\n\u001b[0;32m      2\u001b[0m \u001b[0mdft\u001b[0m \u001b[1;33m=\u001b[0m \u001b[0mdf_scens_in\u001b[0m\u001b[1;33m.\u001b[0m\u001b[0mfilter\u001b[0m\u001b[1;33m(\u001b[0m\u001b[0mvariable\u001b[0m\u001b[1;33m=\u001b[0m\u001b[0mtemp_variable\u001b[0m\u001b[1;33m)\u001b[0m\u001b[1;33m\u001b[0m\u001b[1;33m\u001b[0m\u001b[0m\n\u001b[0;32m      3\u001b[0m \u001b[0mdft\u001b[0m \u001b[1;33m=\u001b[0m \u001b[0mnp\u001b[0m\u001b[1;33m.\u001b[0m\u001b[0mround\u001b[0m\u001b[1;33m(\u001b[0m\u001b[0mdft\u001b[0m\u001b[1;33m.\u001b[0m\u001b[0mas_pandas\u001b[0m\u001b[1;33m(\u001b[0m\u001b[1;33m)\u001b[0m\u001b[1;33m[\u001b[0m\u001b[0mpyam\u001b[0m\u001b[1;33m.\u001b[0m\u001b[0mIAMC_IDX\u001b[0m \u001b[1;33m+\u001b[0m \u001b[1;33m[\u001b[0m\u001b[1;34m\"year\"\u001b[0m\u001b[1;33m,\u001b[0m \u001b[1;34m\"value\"\u001b[0m\u001b[1;33m,\u001b[0m \u001b[1;34m\"Ssp_family\"\u001b[0m\u001b[1;33m]\u001b[0m\u001b[1;33m]\u001b[0m\u001b[1;33m,\u001b[0m \u001b[1;36m2\u001b[0m\u001b[1;33m)\u001b[0m\u001b[1;33m\u001b[0m\u001b[1;33m\u001b[0m\u001b[0m\n\u001b[1;32m----> 4\u001b[1;33m \u001b[0mdft\u001b[0m \u001b[1;33m=\u001b[0m \u001b[0mpyam\u001b[0m\u001b[1;33m.\u001b[0m\u001b[0mIamDataFrame\u001b[0m\u001b[1;33m(\u001b[0m\u001b[0mdft\u001b[0m\u001b[1;33m)\u001b[0m\u001b[1;33m\u001b[0m\u001b[1;33m\u001b[0m\u001b[0m\n\u001b[0m\u001b[0;32m      5\u001b[0m \u001b[1;31m# Replace & fill missing SSP scenario allocation\u001b[0m\u001b[1;33m\u001b[0m\u001b[1;33m\u001b[0m\u001b[0m\n\u001b[0;32m      6\u001b[0m \u001b[1;31m# dft = ssp_helper(dft, ssp_meta_col=\"Ssp_family\", default_ssp=\"SSP2\")\u001b[0m\u001b[1;33m\u001b[0m\u001b[1;33m\u001b[0m\u001b[0m\n",
      "\u001b[1;32m~\\Anaconda3\\envs\\py310\\lib\\site-packages\\pyam\\core.py\u001b[0m in \u001b[0;36m__init__\u001b[1;34m(self, data, meta, index, **kwargs)\u001b[0m\n\u001b[0;32m    134\u001b[0m                 \u001b[0msetattr\u001b[0m\u001b[1;33m(\u001b[0m\u001b[0mself\u001b[0m\u001b[1;33m,\u001b[0m \u001b[0mattr\u001b[0m\u001b[1;33m,\u001b[0m \u001b[0mvalue\u001b[0m\u001b[1;33m)\u001b[0m\u001b[1;33m\u001b[0m\u001b[1;33m\u001b[0m\u001b[0m\n\u001b[0;32m    135\u001b[0m         \u001b[1;32melse\u001b[0m\u001b[1;33m:\u001b[0m\u001b[1;33m\u001b[0m\u001b[1;33m\u001b[0m\u001b[0m\n\u001b[1;32m--> 136\u001b[1;33m             \u001b[0mself\u001b[0m\u001b[1;33m.\u001b[0m\u001b[0m_init\u001b[0m\u001b[1;33m(\u001b[0m\u001b[0mdata\u001b[0m\u001b[1;33m,\u001b[0m \u001b[0mmeta\u001b[0m\u001b[1;33m,\u001b[0m \u001b[0mindex\u001b[0m\u001b[1;33m=\u001b[0m\u001b[0mindex\u001b[0m\u001b[1;33m,\u001b[0m \u001b[1;33m**\u001b[0m\u001b[0mkwargs\u001b[0m\u001b[1;33m)\u001b[0m\u001b[1;33m\u001b[0m\u001b[1;33m\u001b[0m\u001b[0m\n\u001b[0m\u001b[0;32m    137\u001b[0m \u001b[1;33m\u001b[0m\u001b[0m\n\u001b[0;32m    138\u001b[0m     \u001b[1;32mdef\u001b[0m \u001b[0m_init\u001b[0m\u001b[1;33m(\u001b[0m\u001b[0mself\u001b[0m\u001b[1;33m,\u001b[0m \u001b[0mdata\u001b[0m\u001b[1;33m,\u001b[0m \u001b[0mmeta\u001b[0m\u001b[1;33m=\u001b[0m\u001b[1;32mNone\u001b[0m\u001b[1;33m,\u001b[0m \u001b[0mindex\u001b[0m\u001b[1;33m=\u001b[0m\u001b[0mDEFAULT_META_INDEX\u001b[0m\u001b[1;33m,\u001b[0m \u001b[1;33m**\u001b[0m\u001b[0mkwargs\u001b[0m\u001b[1;33m)\u001b[0m\u001b[1;33m:\u001b[0m\u001b[1;33m\u001b[0m\u001b[1;33m\u001b[0m\u001b[0m\n",
      "\u001b[1;32m~\\Anaconda3\\envs\\py310\\lib\\site-packages\\pyam\\core.py\u001b[0m in \u001b[0;36m_init\u001b[1;34m(self, data, meta, index, **kwargs)\u001b[0m\n\u001b[0;32m    164\u001b[0m         \u001b[1;31m# cast data from pandas\u001b[0m\u001b[1;33m\u001b[0m\u001b[1;33m\u001b[0m\u001b[0m\n\u001b[0;32m    165\u001b[0m         \u001b[1;32melif\u001b[0m \u001b[0misinstance\u001b[0m\u001b[1;33m(\u001b[0m\u001b[0mdata\u001b[0m\u001b[1;33m,\u001b[0m \u001b[0mpd\u001b[0m\u001b[1;33m.\u001b[0m\u001b[0mDataFrame\u001b[0m\u001b[1;33m)\u001b[0m \u001b[1;32mor\u001b[0m \u001b[0misinstance\u001b[0m\u001b[1;33m(\u001b[0m\u001b[0mdata\u001b[0m\u001b[1;33m,\u001b[0m \u001b[0mpd\u001b[0m\u001b[1;33m.\u001b[0m\u001b[0mSeries\u001b[0m\u001b[1;33m)\u001b[0m\u001b[1;33m:\u001b[0m\u001b[1;33m\u001b[0m\u001b[1;33m\u001b[0m\u001b[0m\n\u001b[1;32m--> 166\u001b[1;33m             \u001b[0m_data\u001b[0m \u001b[1;33m=\u001b[0m \u001b[0mformat_data\u001b[0m\u001b[1;33m(\u001b[0m\u001b[0mdata\u001b[0m\u001b[1;33m.\u001b[0m\u001b[0mcopy\u001b[0m\u001b[1;33m(\u001b[0m\u001b[1;33m)\u001b[0m\u001b[1;33m,\u001b[0m \u001b[0mindex\u001b[0m\u001b[1;33m=\u001b[0m\u001b[0mindex\u001b[0m\u001b[1;33m,\u001b[0m \u001b[1;33m**\u001b[0m\u001b[0mkwargs\u001b[0m\u001b[1;33m)\u001b[0m\u001b[1;33m\u001b[0m\u001b[1;33m\u001b[0m\u001b[0m\n\u001b[0m\u001b[0;32m    167\u001b[0m \u001b[1;33m\u001b[0m\u001b[0m\n\u001b[0;32m    168\u001b[0m         \u001b[1;31m# unsupported `data` args\u001b[0m\u001b[1;33m\u001b[0m\u001b[1;33m\u001b[0m\u001b[0m\n",
      "\u001b[1;32m~\\Anaconda3\\envs\\py310\\lib\\site-packages\\pyam\\utils.py\u001b[0m in \u001b[0;36mformat_data\u001b[1;34m(df, index, **kwargs)\u001b[0m\n\u001b[0;32m    347\u001b[0m     \u001b[1;32mif\u001b[0m \u001b[0mnull_rows\u001b[0m\u001b[1;33m.\u001b[0m\u001b[0many\u001b[0m\u001b[1;33m(\u001b[0m\u001b[1;33m)\u001b[0m\u001b[1;33m:\u001b[0m\u001b[1;33m\u001b[0m\u001b[1;33m\u001b[0m\u001b[0m\n\u001b[0;32m    348\u001b[0m         \u001b[0mcols\u001b[0m \u001b[1;33m=\u001b[0m \u001b[1;34m\", \"\u001b[0m\u001b[1;33m.\u001b[0m\u001b[0mjoin\u001b[0m\u001b[1;33m(\u001b[0m\u001b[0mdf\u001b[0m\u001b[1;33m.\u001b[0m\u001b[0mcolumns\u001b[0m\u001b[1;33m[\u001b[0m\u001b[0mdf\u001b[0m\u001b[1;33m.\u001b[0m\u001b[0misnull\u001b[0m\u001b[1;33m(\u001b[0m\u001b[1;33m)\u001b[0m\u001b[1;33m.\u001b[0m\u001b[0many\u001b[0m\u001b[1;33m(\u001b[0m\u001b[1;33m)\u001b[0m\u001b[1;33m.\u001b[0m\u001b[0mvalues\u001b[0m\u001b[1;33m]\u001b[0m\u001b[1;33m)\u001b[0m\u001b[1;33m\u001b[0m\u001b[1;33m\u001b[0m\u001b[0m\n\u001b[1;32m--> 349\u001b[1;33m         raise_data_error(\n\u001b[0m\u001b[0;32m    350\u001b[0m             \u001b[1;34mf\"Empty cells in `data` (columns: '{cols}')\"\u001b[0m\u001b[1;33m,\u001b[0m \u001b[0mdf\u001b[0m\u001b[1;33m.\u001b[0m\u001b[0mloc\u001b[0m\u001b[1;33m[\u001b[0m\u001b[0mnull_rows\u001b[0m\u001b[1;33m]\u001b[0m\u001b[1;33m\u001b[0m\u001b[1;33m\u001b[0m\u001b[0m\n\u001b[0;32m    351\u001b[0m         )\n",
      "\u001b[1;32m~\\Anaconda3\\envs\\py310\\lib\\site-packages\\pyam\\logging.py\u001b[0m in \u001b[0;36mraise_data_error\u001b[1;34m(msg, data)\u001b[0m\n\u001b[0;32m     30\u001b[0m     \u001b[0mmsg\u001b[0m \u001b[1;33m=\u001b[0m \u001b[1;34mf\"{msg}:\\n{data}\"\u001b[0m\u001b[1;31m# + (\"\\n...\" if len(data) > 5 else \"\")\u001b[0m\u001b[1;33m\u001b[0m\u001b[1;33m\u001b[0m\u001b[0m\n\u001b[0;32m     31\u001b[0m     \u001b[0mlogger\u001b[0m\u001b[1;33m.\u001b[0m\u001b[0merror\u001b[0m\u001b[1;33m(\u001b[0m\u001b[0mmsg\u001b[0m\u001b[1;33m)\u001b[0m\u001b[1;33m\u001b[0m\u001b[1;33m\u001b[0m\u001b[0m\n\u001b[1;32m---> 32\u001b[1;33m     \u001b[1;32mraise\u001b[0m \u001b[0mValueError\u001b[0m\u001b[1;33m(\u001b[0m\u001b[0mmsg\u001b[0m\u001b[1;33m)\u001b[0m\u001b[1;33m\u001b[0m\u001b[1;33m\u001b[0m\u001b[0m\n\u001b[0m\u001b[0;32m     33\u001b[0m \u001b[1;33m\u001b[0m\u001b[0m\n\u001b[0;32m     34\u001b[0m \u001b[1;33m\u001b[0m\u001b[0m\n",
      "\u001b[1;31mValueError\u001b[0m: Empty cells in `data` (columns: 'ssp_family'):\n                       model                          scenario region  \\\n29240              IMAGE 3.2                     SSP2-baseline  World   \n29241              IMAGE 3.2                     SSP2-baseline  World   \n29242              IMAGE 3.2                     SSP2-baseline  World   \n29243              IMAGE 3.2                     SSP2-baseline  World   \n29244              IMAGE 3.2                     SSP2-baseline  World   \n...                      ...                               ...    ...   \n87543  REMIND-MAgPIE 2.1-4.2  NGFS2_Net-Zero 2050 - IPD-median  World   \n87544  REMIND-MAgPIE 2.1-4.2  NGFS2_Net-Zero 2050 - IPD-median  World   \n87545  REMIND-MAgPIE 2.1-4.2  NGFS2_Net-Zero 2050 - IPD-median  World   \n87546  REMIND-MAgPIE 2.1-4.2  NGFS2_Net-Zero 2050 - IPD-median  World   \n87547  REMIND-MAgPIE 2.1-4.2  NGFS2_Net-Zero 2050 - IPD-median  World   \n\n                                                variable unit  year  value  \\\n29240  AR6 climate diagnostics|Surface Temperature (G...    K  2015   1.12   \n29241  AR6 climate diagnostics|Surface Temperature (G...    K  2016   1.13   \n29242  AR6 climate diagnostics|Surface Temperature (G...    K  2017   1.16   \n29243  AR6 climate diagnostics|Surface Temperature (G...    K  2018   1.18   \n29244  AR6 climate diagnostics|Surface Temperature (G...    K  2019   1.20   \n...                                                  ...  ...   ...    ...   \n87543  AR6 climate diagnostics|Surface Temperature (G...    K  2096   1.36   \n87544  AR6 climate diagnostics|Surface Temperature (G...    K  2097   1.36   \n87545  AR6 climate diagnostics|Surface Temperature (G...    K  2098   1.35   \n87546  AR6 climate diagnostics|Surface Temperature (G...    K  2099   1.35   \n87547  AR6 climate diagnostics|Surface Temperature (G...    K  2100   1.35   \n\n       ssp_family  \n29240         NaN  \n29241         NaN  \n29242         NaN  \n29243         NaN  \n29244         NaN  \n...           ...  \n87543         NaN  \n87544         NaN  \n87545         NaN  \n87546         NaN  \n87547         NaN  \n\n[344 rows x 8 columns]"
     ]
    }
   ],
   "source": [
    "df_scens_in = pyam.IamDataFrame(fname_input_scenarios)\n",
    "dft = df_scens_in.filter(variable=temp_variable)\n",
    "dft = np.round(dft.as_pandas()[pyam.IAMC_IDX + [\"year\", \"value\", \"Ssp_family\"]], 2)\n",
    "dft = pyam.IamDataFrame(dft)\n",
    "# Replace & fill missing SSP scenario allocation\n",
    "# dft = ssp_helper(dft, ssp_meta_col=\"Ssp_family\", default_ssp=\"SSP2\")\n"
   ]
  },
  {
   "cell_type": "code",
   "execution_count": null,
   "id": "4d668b32",
   "metadata": {},
   "outputs": [],
   "source": [
    "dft = ssp_helper(dft, ssp_meta_col=\"Ssp_family\", default_ssp=\"SSP2\")\n"
   ]
  },
  {
   "cell_type": "markdown",
   "id": "7a4ac889",
   "metadata": {},
   "source": [
    "## Example multiple scenarios, 1 climate indicator"
   ]
  },
  {
   "cell_type": "code",
   "execution_count": null,
   "id": "e9e8ddab",
   "metadata": {},
   "outputs": [],
   "source": [
    "print(\"Test multiple scenarios, 1 indicator\")\n",
    "start = time.time()\n",
    "\n",
    "ind = \"precip\"\n",
    "var = \"sdii\"\n",
    "short = params[\"indicators\"][ind][var][\"short_name\"]\n",
    "\n",
    "ssp = \"ssp2\"\n",
    "\n",
    "\n",
    "\n",
    "files = glob.glob(os.path.join(impact_data_dir, ind, f\"*{short}_{ssp}*{ftype}.nc4\"))\n",
    "mapdata = xr.open_mfdataset(\n",
    "    files, preprocess=remove_ssp_from_ds, combine=\"nested\", concat_dim=\"gmt\"\n",
    ")\n",
    "\n",
    "\n",
    "map_out_MS = map_transform_gmt_multi_dask(\n",
    "    dft.filter(model=\"POLES ADVANCE\"),\n",
    "    mapdata,\n",
    "    years,\n",
    "    use_dask=True,\n",
    "    gmt_name=\"threshold\",\n",
    "    interpolation=interpolation,\n",
    ")\n",
    "\n",
    "comp = dict(zlib=True, complevel=5)\n",
    "encoding = {var: comp for var in map_out_MS.data_vars}\n",
    "filename = f\"{output_folder_maps}scenario_maps_multiscenario_{ftype}.nc\"\n",
    "map_out_MS.to_netcdf(filename, encoding=encoding)\n",
    "\n",
    "print(\"FINISHED Test multiple scenarios, 1 indicator\")\n",
    "print(f\"{time.time()-start}\")"
   ]
  }
 ],
 "metadata": {
  "kernelspec": {
   "display_name": "Python 3 (ipykernel)",
   "language": "python",
   "name": "python3"
  },
  "language_info": {
   "codemirror_mode": {
    "name": "ipython",
    "version": 3
   },
   "file_extension": ".py",
   "mimetype": "text/x-python",
   "name": "python",
   "nbconvert_exporter": "python",
   "pygments_lexer": "ipython3",
   "version": "3.10.8"
  }
 },
 "nbformat": 4,
 "nbformat_minor": 5
}
